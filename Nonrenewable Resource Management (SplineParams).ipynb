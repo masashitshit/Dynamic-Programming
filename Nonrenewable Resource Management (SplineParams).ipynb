{
 "cells": [
  {
   "cell_type": "markdown",
   "metadata": {},
   "source": [
    "# Nonrenewable Resource Management (Splineの場合)"
   ]
  },
  {
   "cell_type": "markdown",
   "metadata": {},
   "source": [
    "## 設定\n",
    "\n",
    "* 鉱山経営者が利潤を最大化する鉱石の掘り出し方を考えたい。\n",
    "\n",
    "* 毎期sの鉱石残量が与えられ、xだけ採掘する。\n",
    "\n",
    "* 各期の採掘コストはc(s,x)で　$$c_{s} \\leq 0$$  $$c_{x} \\geq 0$$  $$c_{s}(s,0)=0$$\n",
    "\n",
    "* 各期の鉱石の市場価格はp(x)で　$$p' \\leq 0$$\n",
    "\n",
    "* 鉱石の初期賦存量に$\\bar{s}$が与えられるとする。\n",
    "\n",
    "##### state variable\n",
    "\n",
    "$$s∈[{0,\\bar{s}}]$$\n",
    "\n",
    "##### action variable \n",
    "\n",
    "$$x∈[{0,s}]$$\n",
    "\n",
    "##### transition function\n",
    "\n",
    "$$g(s,x)=s-x$$\n",
    "\n",
    "##### reward function\n",
    "\n",
    "$$f(s,x) = p(x) x-c(s,x)$$\n",
    "\n",
    "##### Bellman equation\n",
    "\n",
    "$$V(s)=\\max_ {0\\leq x \\leq s}  {p(x) x-c(s,x)+\\delta V(s-x)}$$\n"
   ]
  },
  {
   "cell_type": "code",
   "execution_count": 1,
   "metadata": {
    "collapsed": true
   },
   "outputs": [],
   "source": [
    "using QuantEcon\n",
    "using BasisMatrices\n",
    "using Optim \n",
    "using Plots"
   ]
  },
  {
   "cell_type": "markdown",
   "metadata": {},
   "source": [
    "* structでパラメーターの情報を格納"
   ]
  },
  {
   "cell_type": "code",
   "execution_count": 2,
   "metadata": {
    "collapsed": true,
    "scrolled": true
   },
   "outputs": [],
   "source": [
    "struct NonrenewableResource\n",
    "    a1::Float64 # inverse demand function parameter\n",
    "    a2::Float64 # inverse demand function parameter\n",
    "    b1::Float64 # cost function parameter\n",
    "    b2::Float64 # cost function parameter\n",
    "    delta::Float64 # Discount factor\n",
    "    s_vec::Vector{Float64} # ore grid\n",
    "end"
   ]
  },
  {
   "cell_type": "markdown",
   "metadata": {},
   "source": [
    "* 基底関数とノードの数、stateの上限と下限、を指定してfspaceにどのような補間をするかの情報を格納\n",
    "* 3次のスプライン補間を行う"
   ]
  },
  {
   "cell_type": "code",
   "execution_count": 3,
   "metadata": {},
   "outputs": [
    {
     "data": {
      "text/plain": [
       "([0.0, 0.0343643, 0.103093, 0.206186, 0.309278, 0.412371, 0.515464, 0.618557, 0.721649, 0.824742  …  9.17526, 9.27835, 9.38144, 9.48454, 9.58763, 9.69072, 9.79381, 9.89691, 9.96564, 10.0], Array{Float64,1}[[0.0, 0.0343643, 0.103093, 0.206186, 0.309278, 0.412371, 0.515464, 0.618557, 0.721649, 0.824742  …  9.17526, 9.27835, 9.38144, 9.48454, 9.58763, 9.69072, 9.79381, 9.89691, 9.96564, 10.0]])"
      ]
     },
     "execution_count": 3,
     "metadata": {},
     "output_type": "execute_result"
    }
   ],
   "source": [
    "n = 100\n",
    "smin = 0\n",
    "smax = 10\n",
    "fspace = Basis(SplineParams(n-2,smin,smax,3))\n",
    "snodes = nodes(fspace)"
   ]
  },
  {
   "cell_type": "code",
   "execution_count": 4,
   "metadata": {},
   "outputs": [
    {
     "data": {
      "text/plain": [
       "NonrenewableResource(10.0, 0.8, 12.0, 1.0, 0.9, [0.0, 0.0343643, 0.103093, 0.206186, 0.309278, 0.412371, 0.515464, 0.618557, 0.721649, 0.824742  …  9.17526, 9.27835, 9.38144, 9.48454, 9.58763, 9.69072, 9.79381, 9.89691, 9.96564, 10.0])"
      ]
     },
     "execution_count": 4,
     "metadata": {},
     "output_type": "execute_result"
    }
   ],
   "source": [
    "NR = NonrenewableResource(10,0.8,12,1.0,0.9,snodes[1])"
   ]
  },
  {
   "cell_type": "code",
   "execution_count": 5,
   "metadata": {},
   "outputs": [
    {
     "data": {
      "text/plain": [
       "update_Bellman (generic function with 1 method)"
      ]
     },
     "execution_count": 5,
     "metadata": {},
     "output_type": "execute_result"
    }
   ],
   "source": [
    "function update_Bellman(NR::NonrenewableResource,V::Vector)\n",
    "    \n",
    "    a1,a2,b1,b2,delta = NR.a1,NR.a2,NR.b1,NR.b2,NR.delta\n",
    "    V_new = similar(V)\n",
    "    x_opt = similar(V)\n",
    "    \n",
    "    # 補間の準備.３次のスプラインで補間する\n",
    "    fspace = Basis(SplineParams(n,smin,smax,3))\n",
    "    s_vec,_ = nodes(fspace)\n",
    "    Φ = BasisMatrix(fspace, Expanded(), s_vec, 0)\n",
    "    coeffs_V = Φ.vals[1] \\ s_vec\n",
    "    \n",
    "    for (s_idx,s) in enumerate(NR.s_vec)\n",
    "        objective(x) = -((a1-a2*x)*x-(b1*x-0.5*b2*x*(2s-x))+delta*(funeval(coeffs_V,fspace,s-x)))\n",
    "        opt = optimize(objective, 0, s)\n",
    "        V_new[s_idx] = - opt.minimum\n",
    "        x_opt[s_idx] = opt.minimizer\n",
    "        \n",
    "    end\n",
    "    \n",
    "    return V_new,x_opt\n",
    "    \n",
    "end\n",
    "#objective(x) = -((a1-a2*x)*x-(b1*x-0.5*b2*x*(2s-x))+delta*V_func.(s-x))"
   ]
  },
  {
   "cell_type": "markdown",
   "metadata": {},
   "source": [
    "* Initial guessを与えて、ベルマン方程式を更新していく"
   ]
  },
  {
   "cell_type": "code",
   "execution_count": 6,
   "metadata": {
    "collapsed": true
   },
   "outputs": [],
   "source": [
    "# Initial guess\n",
    "V = zeros(length(NR.s_vec));"
   ]
  },
  {
   "cell_type": "code",
   "execution_count": 7,
   "metadata": {},
   "outputs": [
    {
     "data": {
      "text/plain": [
       "([0.0, 0.0309278, 0.0927835, 0.185567, 0.278351, 0.371134, 0.463918, 0.556701, 0.649485, 0.742268  …  15.8306, 16.1742, 16.522, 16.8738, 17.2297, 17.5897, 17.9538, 18.322, 18.5697, 18.6942], [0.0, 3.31207e-16, 3.91815e-16, 2.62265e-16, 2.26935e-16, 3.6998e-16, 2.4043e-16, 3.32925e-16, 4.00155e-16, 2.35276e-16  …  2.41356, 2.45321, 2.49286, 2.53251, 2.57216, 2.61182, 2.65147, 2.69112, 2.71755, 2.73077])"
      ]
     },
     "execution_count": 7,
     "metadata": {},
     "output_type": "execute_result"
    }
   ],
   "source": [
    "V_computed, x_opt = update_Bellman(NR,V)  "
   ]
  },
  {
   "cell_type": "code",
   "execution_count": 8,
   "metadata": {
    "collapsed": true
   },
   "outputs": [],
   "source": [
    "n = 300\n",
    "V_computed = similar(V)\n",
    "x_opt = similar(V)\n",
    "resid = Vector{Float64}(n)\n",
    "\n",
    "for i in 1:n\n",
    "    V_computed, x_opt = update_Bellman(NR,V)       \n",
    "\n",
    "    #for j in 1:length(V_computed)\n",
    "     #  resid[j] =  V_computed[j] - funeval(coeffs_V,fspace,snodes[1][j])\n",
    "    #end\n",
    "    \n",
    "    copy!(V, V_computed)\n",
    "    \n",
    "end"
   ]
  },
  {
   "cell_type": "code",
   "execution_count": 9,
   "metadata": {},
   "outputs": [
    {
     "data": {
      "text/plain": [
       "100-element Array{Float64,1}:\n",
       "  0.0      \n",
       "  0.0309278\n",
       "  0.0927835\n",
       "  0.185567 \n",
       "  0.278351 \n",
       "  0.371134 \n",
       "  0.463918 \n",
       "  0.556701 \n",
       "  0.649485 \n",
       "  0.742268 \n",
       "  0.835052 \n",
       "  0.927835 \n",
       "  1.02062  \n",
       "  ⋮        \n",
       " 15.1556   \n",
       " 15.491    \n",
       " 15.8306   \n",
       " 16.1742   \n",
       " 16.522    \n",
       " 16.8738   \n",
       " 17.2297   \n",
       " 17.5897   \n",
       " 17.9538   \n",
       " 18.322    \n",
       " 18.5697   \n",
       " 18.6942   "
      ]
     },
     "execution_count": 9,
     "metadata": {},
     "output_type": "execute_result"
    }
   ],
   "source": [
    "V"
   ]
  },
  {
   "cell_type": "code",
   "execution_count": 10,
   "metadata": {},
   "outputs": [
    {
     "data": {
      "text/plain": [
       "100-element Array{Float64,1}:\n",
       " 0.0        \n",
       " 3.31207e-16\n",
       " 3.91815e-16\n",
       " 2.62265e-16\n",
       " 2.26935e-16\n",
       " 3.6998e-16 \n",
       " 2.4043e-16 \n",
       " 3.32925e-16\n",
       " 4.00155e-16\n",
       " 2.35276e-16\n",
       " 2.92441e-16\n",
       " 3.49606e-16\n",
       " 3.88629e-16\n",
       " ⋮          \n",
       " 2.33426    \n",
       " 2.37391    \n",
       " 2.41356    \n",
       " 2.45321    \n",
       " 2.49286    \n",
       " 2.53251    \n",
       " 2.57216    \n",
       " 2.61182    \n",
       " 2.65147    \n",
       " 2.69112    \n",
       " 2.71755    \n",
       " 2.73077    "
      ]
     },
     "execution_count": 10,
     "metadata": {},
     "output_type": "execute_result"
    }
   ],
   "source": [
    "x_opt"
   ]
  },
  {
   "cell_type": "code",
   "execution_count": 11,
   "metadata": {},
   "outputs": [
    {
     "data": {
      "text/html": [
       "<img src=\"data:image/png;base64,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\" />"
      ]
     },
     "execution_count": 11,
     "metadata": {},
     "output_type": "execute_result"
    }
   ],
   "source": [
    "plot(NR.s_vec,x_opt,xlabel=\"Available Stock\",ylabel=\"Harvest\",xlim=(0,10),ylim=(0,10))\n",
    "#s = 3(?)の時点で生産が止まっている"
   ]
  },
  {
   "cell_type": "code",
   "execution_count": 12,
   "metadata": {},
   "outputs": [
    {
     "data": {
      "text/html": [
       "<img src=\"data:image/png;base64,iVBORw0KGgoAAAANSUhEUgAAAlgAAAGQCAYAAAByNR6YAAAABHNCSVQICAgIfAhkiAAAAAlwSFlzAAAPYQAAD2EBqD+naQAAIABJREFUeJzs3Xd4FNX+x/HP7KTQkkDoEUKTCArSRBFRkKJ0kGLhgqIoYPdaAC/KVVRs6AXbxauIXJWIWPAKCNIRUYoYQVAgQCDUUBMglOzM+f0Rzc+Y0DfZkvfrefL47O7s7HeZnd2P55w5xzLGGAEAAMBnPP4uAAAAINQUeMB64IEHVL16dVmWpaSkpJz709LS1L59e9WuXVv16tXTokWLTrqPpUuXqkGDBkpISFDr1q21ffv2gi4bAADgnBV4wOrVq5cWL16satWq5bp/2LBhatasmTZs2KAJEyaoT58+ysrKyvN813X1t7/9TWPGjNH69evVsWNHPfTQQwVdNgAAwDmzCmsMVvXq1TV16lQ1bNhQklSqVCklJyerUqVKkqTLL79co0aNUtu2bXM9b/ny5erXr59+++03SdKhQ4dUvnx5HTx4UMWKFSuM0gEAAM5KmD9edN++fcrKysoJV1J2ANu6dWuebbdu3Zqr9SsqKkrR0dHasWOHatasmWtbY4z27t2riIgIWZaVc39kZKQiIyML4J0AAADk5ZeAVVAOHTqkChUq5Ll/yJAhGjp0qB8qwulkZGQoOjra32XgDHG8gktRPF5ZrtR2XglJ0pzWmQoPkku5iuKxCmaxsbGn3cYvAats2bIKCwvTrl27clqxUlJSFB8fn2fb+Ph4bdmyJef2oUOHlJ6erri4uJPuPzU1NdcHlRaswHYmH1QEDo5XcClqx+vZlY5+zXC1rHuYKpYLrmEkRe1YhTq/ZfvevXtr3LhxkrLHWW3fvl0tW7bMs12TJk2UlZWl+fPnS5LefvttdenS5ZTjr6Kjo3P9Ea4AIPSt2W/0zE+uhjTwqHE56/RPAApQgbdgDRo0SNOnT9euXbt0/fXXKyoqSsnJyXrxxRfVr18/1a5dWxEREfrwww8VHh4uSRo3bpx27NihkSNHyuPx6MMPP9SgQYN07NgxxcXF6YMPPijosgEAQcRxjQZ866hmtDSiUZD0CyKkFdpVhIUhIyNDMTExSk9Ppy87SOzfv59m8SDC8QouRel4vbrK0aNLXS3uaqt5xeALWKFyrE6cOKEtW7bIcRx/l3JebNtWtWrVFBERcc77CKlB7gCAoic53eiJFa4eqOcJynAVKrZt26Y+ffooMzPT36X4RIkSJZSYmKgLLrjgnJ5PwAIABC3XGN2xyFGlEtJzlxGu/MV1XY0cOVKlS5fWa6+9FvTzVB47dkxPPvmknn76aY0bN04ez9l/tghYAICg9eYaV9/uMprfyVbJcAa2+8vevXu1cuVKPffcczkTige7++67T8OHD9e+fftUvnz5s34+cR8AEJQ2ZhgNW+7q3os9ahXHz5k/HTx4UJJUpUoVP1fiO3+8lwMHDpzT8/lEAgCCjmuMBixyVKGY9MLl/JT5m+u6krIHh4eKP97LH+/tbPGpBAAEnbfWulq402j8NbZK0TWIs5CSkqJWrVopJiamQLszCVgAgKCyKcNo6DJXd9f1qPUF/Izh7ERHR+vZZ5/VpEmTCvR1+GQCAILGH12D5YtJL9I1iFMYPXq0Bg4cmHP74MGDKleunCSpRYsWKlmyZIG+PlcRAgCCxrhfXS3YaTSno62oCLoGA9mmDKODJ3y/39IRUs3o0x/7O++8UwkJCXrppZdUunRpTZgwQd26dSu0CV0JWACAoLApw2jIUleD6njUhq7BgLb3mFHtT7xyC2CtGNuSdvUNU7lipw5ZpUuXVq9evfTee+/p73//u/79739r8uTJvi/oJAhYAICA5xqj2xdmdw2+fAXhKtCVK2Zpw41hBdaCdbpw9YcHHnhAXbt2Vd26dVW+fHk1atTI9wWdBAELABDwXl/jatEuo3md6BoMFmfSjVfQ6tSpo5o1a2rgwIF66aWXCvW1+d8AAEBAW3/Q6PFlru6/xKNrmVAUZ+muu+6S1+tVr169JEmZmZmqUqWKevfurbVr16pKlSp6/PHHff66tGABAAKW4xr1X+jogpLS800JVzh78+fP1z333KPw8HBJ2Ys4b9u2rcBfl4AFAAhYr6529UOa0bddWGsQZ2fHjh1q3bq1YmNjNWvWrEJ/fQIWACAgrT1g9OSPrh6u79FVlWi9wtmJi4vTb7/95rfX5xMLAAg4XtfotgWOakRJz1zGTxWCDy1YAICA80KSq5X7jL7vaqt4GF2Dgc7jyQ7BWVlZfq7Ed/54L3+8t7NFwAIABJSVe42eXunq8QYeXV6B1qtgEBcXp4iICL3zzju66667cgaUB6usrCy98847ioiIUFxc3Dntg4AFAAgYx7xGty7wql6sNKIx4SpYlCpVSq+++qoefvhhLVmyxN/l+ERERIReffVVlSpV6pyeT8ACAASMJ390tSFd+vGGMEXYdA0Gk2bNmumbb77Rjh075Lquv8s5Lx6PR3FxceccriQCFgAgQCza6eqVVa5evNyjerGEq2BUqlQpJSQk+LuMgED7KwDA7w6dyJ5Q9KqKlh6uz08Tgh8tWAAAv3tkqaO0o9KcjrZsD61XCH4ELACAX83Y6uqd34zebmEHxALBgC/QDgsA8Ju9x4wGLHLUoaqlu+oQrhA6CFgAAL8wxmjQt46yXGn8NbYsi4CF0EEXIQDAL/67wejzFKPP2tqqXIJwhdBCCxYAoNBtzjC6f4mj22pb6lGDnyKEHj7VAIBC5bhGty10FBspvdbc9nc5QIGgixAAUKhGr3K1eJfRws62oiPoGkRoogULAFBokvYZPfmjqyENPLq6Mj9BCF18ugEAheKY16jvfK8uLi093YSfH4Q2uggBAIVi2HJXyRnSiu5himQhZ4Q4AhYAoMDNSnU19hdXY65kIWcUDbTRAgAK1J6j2Qs5X3eBpfsv4WcHRQOfdABAgTHG6K7fZ2t/v5UtD7O1o4igixAAUGDe+c3oyy1GU9sxWzuKFlqwAAAFYv1Bo7//4GhgHY+6VefnBkULn3gAgM+dcIz6zHdUpaT0ajN+alD00EUIAPC5p1a6+nmf0ffdbJUMp2sQRQ8BCwDgUwt2uHohydVzTT26rDytVyia+OQDAHxm3zGjvgsctaxsacil/MSg6OLTDwDwCWOM7lzk6KhX+qCVLdtD1yCKLroIAQA+8favrqZuMfqina0qpQhXKNpowQIAnLe1B4z+/oOrwXU96s6UDAABCwBwfo55jW6e51XNKOkVpmQAJNFFCAA4T0OWuVqfLi3rFqYSYXQNAhIBCwBwHqZtcfX6Gldjr/To0rKEK+APtOUCAM7J9iNG/Rc66lTV0v2X8HMC/BlnBADgrDmuUd/5jiJt6f1WtiyL1ivgz+giBACctVFJrhbtMprXyVa5YoQr4K9owQIAnJVvd7p6aqWrJxt51LIyPyNAfjgzAABnbN8xoz7zHbWoaOmJRvyEACfD2QEAOCPGGA1Y5CjTK310ra0wlsIBTooxWACAM/LmWldfbjH633UshQOcDi1YAIDT+mmv0SM/uHqwnkddqvHTAZwOZwkA4JQyThj1nutV/VhLL17OzwZwJugiBACclDFGA791tOeoNKuDrUibrkHgTBCwAAAn9Z/fXE3eZPRJG1u1oglXwJmirRcAkK+kfUYPfu/qnos96l2TnwvgbHDGAADyOHTC6MY5XtUtLb1yBT8VwNmiixAAkIsxRoMWO9p5VFrZPkzFwugaBM4WAQsAkMu764wSNxoltrZVO4ZwBZwL2n0BADmS9hndv8TRwDoe3VyLnwjgXHH2AAAkSeknjHrP8eri0tLYK/l5AM4HXYQAgJx1BtOOSjM7MO4KOF8ELACAXlvj6rPNRp+1Zb4rwBdoAwaAIu6H3a4e/cHV3+t51KMGPwuAL3AmAUARtu+Y0Y1zHTUtb+lF5rsCfIazCQCKKNcY3brAUaZXmtzGVriHrkHAVxiDBQBF1PNJrr5ONZrR3lbVUoQrwJf8GrD27dunNm3a5NzOzMzUpk2blJaWptjY2Jz7U1JSVKtWLdWvXz/nvs8++0y1atUq1HoBIFTM3ubqyRWuRjT2qH1VOjMAX/NrwCpbtqySkpJybo8ePVoLFy7MFa7+EBUVlWtbAMC5ST1s1Ge+o+uqWHqyEeEKKAgBdWaNHz9eAwYM8HcZABCyjjtGveY4KhEmfXStLZtxV0CBCJgxWEuWLNGBAwfUuXPnfB8/cuSImjRpImOMunfvruHDh8u27Xy3zcjIyHU7MjJSkZGRPq8ZAILNwz+4StpntLirrbLFCFdAQQmYgDV+/HjdeuutCgvLW1LlypW1fft2VahQQfv379dNN92kV155RUOGDMl3X1WrVs11e8iQIRo6dGiB1I3zc+DAAX+XgLPA8Qoufz1en2wN01tri+uVRsdUy87S/v1+Kgx5cG4Fl/yGMv2VZYwxhVDLKR0+fFiVK1fW8uXLVadOndNun5iYqEmTJumrr77KdX9GRoZiYmKUmpqq6OjonPtpwQpc+/fvP6MPKgIDxyu4/Pl4rd5vdMVUr26saWlCS1uWRetVIOHcCj0B0YI1efJkNWjQ4KThKi0tTWXKlFF4eLiOHz+uzz//XI0aNTrp/qKjo3MFLAAoyg4eN+o526vaMdJbLQhXQGEIiEHu+Q1uHzFihMaNGydJWrx4sRo1aqQGDRqocePGqlSpkoYPH+6PUgEgqPwxmeieY9Ln7cJUgkWcgUIREF2EvvJHF2F6ejotWEGCZvHgwvEKLvv379ebKTH654+upre31YH5rgIW51bo4WwDgBA1e6etf/7o6ukmHsIVUMg44wAgBG3MMBq0vLg6x1sazmSiQKHjrAOAEHMky+iG2V6VizT64FpbHga1A4UuIK4iBAD4hjFGA791tClDmtXqqGIimKIG8AcCFgCEkDG/uJq00Whya1t1Y1x/lwMUWXQRAkCImLPd1aNLXT12qUc31uLrHfAnzkAACAGbM4xumuuobZyl55vy1Q74G2chAAS5Pwa1l46QElvbsj0Magf8jTFYABDEjDEasMhRcob0fbcwxRYjXAGBgIAFAEHs5VWuJm8y+rStrfqxhCsgUNBFCABBamaqq2HLXA1v6FHPGnydA4GEMxIAgtD6g0a3zHPUoaqlp5vwVQ4EGs5KAAgy6SeMun7jVaUS0iQGtQMBiTFYABBEHDe75Wr3UWlptzDFRBCugEBEwAKAIPL4clezthl93d5WQmnCFRCoCFgAECQ+2ODq5VWu/tXMo+uqMMIDCGScoQAQBJamubrrW0e3J1h6sB5f3UCg4ywFgAC3/YjRDbMdNS5r6d8tbFkWXYNAoCNgAUAAy/QadfvGkW1Jn7ezFWkTroBgwBgsAAhQrjG6bYGjXw8aLe4SpkolCFdAsCBgAUCAenqlq083G33RzlajcoQrIJjQRQgAASgx2dXIla6eb+pR9+p8VQPBhrMWAALM0jRXty9ydGttS0Mb8DUNBCPOXAAIIKmHswe1X1bO0n+u5opBIFgRsAAgQBzOyl5jsJjNFYNAsGOQOwAEAMc16jPP0cYM6buuYapQnHAFBDMCFgAEgEeXupqRajTtelv1YwlXQLAjYAGAn7211tGYX1y9dZVH7asycgMIBZzJAOBHM1Nd3b/E1UP1PLr7Ytvf5QDwEQIWAPjJ6v1GN8511KmqpdFX8HUMhBLOaADwg12ZRp1melUrWprU2pbtYdwVEEoIWABQyI5kGXWe5cgx0lfXhalUOOEKCDUMcgeAQuR1jW6e52hdutG3XcJUpRThCghFBCwAKCTGGD34vauvf5+OoWFZwhUQqghYAFBIXlnt6q21rt652mY6BiDEcYYDQCH4ZKOrx5a6+kdDj+6sw1cvEOo4ywGggH23y9WtCx31qWXp2cv42gWKAs50AChA6w4adf3GUbMKlt5racuyGHcFFAUELAAoILsyjdp/7VWl4tIX7WxF2oQroKhgkDsAFIBDJ4w6zvTqhCst7BCmMpGEK6AoIWABgI+dcIx6zXG0MUP6tkuY4pnrCihyCFgA4EPGGN25yNH8nUazOti6lLmugCKJgAUAPjR8hasPko0SW9u6No5hrkBRxdkPAD7y1lpHzye5Gn2FRzfX4usVKMr4BgAAH5iyydV937l6qJ5HD9fnqxUo6vgWAIDzNG+7q77zHd1Sy9IrzTzMdQWAgAUA52PlXqNusx1dG2dpQktbHsIVABGwAOCcJacbdZjp1cWlLX3a1lYEE4kC+B0BCwDOwa5Mo+u/9qpMhDS9va1S4YQrAP+PaRoA4Cyln8huuTrmSPM6halcMcIVgNwIWABwFjK9Rl1mOUo5JC3qEqZqUYQrAHkRsADgDGW5Rr3nOPpxr9GcjrbqxxKuAOSPgAUAZ8A1RrctcDR7u9G0621dWZEhrABOjoAFAKdhjNH9S1xN3mQ0ubWt66oQrgCcGgELAE7jnz+6emutq3euttWrJuEKwOnxTQEAp/Cv1Y6e+cnVS5d7dGcdvjIBnBm+LQDgJN75zdXDP7ga2sCjxxrY/i4HQBAhYAFAPiYluxr0raN7L/bo+aZ8VQI4O3xrAMBffJni6tYFjm6tbem15izeDODsEbAA4E9mb3N141xHN1S39O41LN4M4NwQsADgd4t3uer2jaO2F1j66FpbYR7CFYBzQ8ACAEkr9rjqNNNRswqWPm1rK8ImXAE4dwQsAEVe0j6jdjMcXVLG0pfX2SoeRrgCcH4IWACKtF/2G7Wd7tWF0Za+7mArKoJwBeD8EbAAFFm/HTRqM8OrqqWkWR1sxRCuAPgIAQtAkZScbtR6ulfli0mzO4YpthjhCoDvELAAFDkph7LDVXS4NLdjmMoRrgD4GAELQJGy5ZDRtdO8irCluZ3CVLEE4QqA7xGwABQZWw8bXTvdK8uS5nUK0wUlCVcACgYBC0CRkHo4u+VKkhZ0DlN8KcIVgIJDwAIQ8lIPG7Wa5pVrpPmdCFcACh4BC0BI2/Z7t6BrsluuqkURrgAUPL8GrOrVq+uiiy5Sw4YN1bBhQ02ePDnf7aZNm6Y6deqodu3a6tGjhzIyMgq5UgDBaNtho1bTvfK60nzCFYBCdMqAtXPnTi1btkyZmZkFVsDkyZOVlJSkpKQk3XTTTXkeP3z4sAYMGKCpU6dqw4YNiouL0zPPPFNg9QAIDVsOGbWc5lWWm91yVZ1wBaAQ5Ruw3nvvPcXHx6tKlSq68sor9dtvv0mSevbsqTfeeKNQC/z666/VqFEj1alTR5J0zz33KDExsVBrABBcNmdkhysjaRHhCoAf5AlYr7/+ugYPHqybbrpJ06dPlzEm57Grr776pN1456pfv36qX7++BgwYoD179uR5fOvWrapWrVrO7erVq2vnzp3yer0n3WdGRkauv+PHj/u0ZgCBKzk9O1yFe6SFdAsC8JOwv94xZswYPfHEExoxYoQcx8n12EUXXZTTmuULixYtUnx8vLKysvTEE0/otttu04wZM857v1WrVs11e8iQIRo6dOh57xe+d+DAAX+XgLMQ6MdrwyFL3ReVUMkw6YsWmSp5wmj/fn9X5T+Bfrzw/zhWwSU2Nva02+QJWNu3b1eLFi3y3TgiIkKHDx8+/8p+Fx8fL0kKDw/XQw89pISEhHy3mT17ds7tlJQUVa5cWWFheUrPkZqaqujo6JzbkZGRioyM9Fnd8K0z+aAicATq8Vp7wKj7t17FFsueob1SCc55KXCPF/LiWIWWPF2E8fHxWrFiRb4bL1u2TLVr1/bJCx85ckQHDx7MuZ2YmKhGjRrl2a59+/ZauXJlTsvZW2+9pZtvvvmU+46Ojs71R7gCQtuqfdlTMZQvnn21YCWWvwHgZ3magQYMGKBnnnlGFStW1A033CBJchxHs2bN0ujRo/X000/75IV3796tnj17ynEcGWNUs2ZN/fe//5UkjRgxQnFxcRo8eLCioqL07rvvqnv37vJ6vapXr54mTpzokxoABL/le1xd/7Wj6qWkb1i4GUCAsMyfR7FLMsbo3nvv1dtvvy2PxyPHcWTbtlzX1aBBg/TWW2/5q9bTysjIUExMjNLT03N1ESJw7d+/n2bxIBJox+vbna46zXJUr4ylGe1tlY4kXP1ZoB0vnBzHKvTkacGyLEtvvfWWHnroIc2ePVv79u1TbGys2rRpo7p16/qjRgDIY/Y2V92+cdSsgqX/XW+rVDjhCkDgOOlI8YSEhHwHnQOAv/1vi6vecxy1vcDSp21tFQ8jXAEILHkC1pIlS077pObNmxdIMQBwOpM3uuo731G36pYmXWsrwiZcAQg8eQJWixYtZFlWrglGLSv3F9hf58cCgMLw9q+O7l7squ+Flt5raSvMQ7gCEJjyBKzly5fn2ejAgQOaNWuWpk6dqnHjxhVKYQDwZy8kOXp8uav7L/FozJUeeSzCFYDAlSdgNWnSJN8N27Ztq1KlSmn8+PFq06ZNgRcGAFL2lc2PL3f14s+uRjT26KnGnjyt6gAQaPJd7PlkWrRooWnTphVULQCQi+Ma3b04O1z9q5lHTzexCVcAgsLJ15vJx1dffcU8HQAKxQnH6LaFjj7ZZDShpa3+CWf1/4MA4Fd5AlaPHj3ybHTixAmtW7dOmzZt0vPPP18ohQEoug6dMOo5x9HCnUZT2tjqUYNwBSC45AlYaWlpeZrgixUrphYtWmjMmDHq1KlToRUHoOjZc9So40xH69ONZnWw1SqOcAUg+OQJWIsXL/ZHHQCglENG183wKiNLWtglTA3LMt4KQHDifw0BBIRV+4ya/88rV9KSroQrAMEtTJIefvjhM36CZVl65ZVXCqwgAEXPop2uun7jqGaU9HX7MFUsQbgCENzCJGnKlCln/AQCFgBfmrIpe+mbFpUsfdHOVnQE4QpA8AuTpNTUVH/XAaAIGrPa0cM/uLqlVvbSN5GsKwggRJzVPFgA4AuuMXr0B1f/+sXV0AYejWrK0jcAQstJA1ZKSorWr1+vY8eO5Xmsa9euBVoUgNB1zGt06wJHn242eqO5R/deYvu7JADwuTwB69ChQ+rVq5fmzJkjKXsdMEm55sZyHKeQygMQSvYfM7phtqNle4w+a2vrBiYQBRCi8ny7Pf7449q6davmz58vY4ymTJmiOXPm6LbbblONGjW0ZMkSf9QJIMhtzDC68n9erTlgNLcT4QpAaMvzDTdjxgw98cQTuuqqqyRJ1apVU+vWrfXee++pS5cuGjt2bKEXCSC4LdntqtmXXhkj/dAtTM0rEq4AhLY833K7d+9WfHy8bNtWyZIltW/fvpzHOnfurBkzZhRqgQCC2ycbXbWe7qhuaUvfdwvThTEMZgcQ+vIErKpVqyotLU2SdOGFF+qrr77KeWzp0qUqVqxY4VUHIGgZY/RCkqOb5jnqWd3S7I62yhYjXAEoGvIMcm/btq3mzp2rnj176qGHHtLtt9+u5cuXKyIiQkuWLNFDDz3kjzoBBJETjtE93zkav85oRGOPnmrsybOIPACEsjBJ2rx5s2rUqCFJeuGFF3TkyBFJ0m233aYSJUro008/1dGjRzVmzBjdc889/qsWQMDbd8yo5xxHS3Ybvd/S1m0JjLcCUPSESVKtWrXUvHlz9enTRzfeeKMqVqyYs0Hv3r3Vu3dvvxUIIHj8esCoyzdepZ+Q5nWy1aIS4QpA0eSRpLFjx8oYo/vuu09xcXHq1KmTJk2apMzMTH/XByBIzErNvlKwmC0t6xZGuAJQpHkk6f7779d3332nzZs36+mnn1Zqaqr69u2rihUrqm/fvpoxYwaTiwLIlzFGb6xx1HFW9oLNS7qGqUY0460AFG25/hezWrVqevzxx7Vq1SqtWrVKDzzwgL7//nt17txZlStX1r333qvvvvvOX7UCCDAnHKPBi13dv8TVQ/U8+t91tqIjCFcAYJk/1sI5haVLl+qdd97RhAkTZFmWvF5vYdR21jIyMhQTE6P09HRFR0f7uxycgf379ys2NtbfZeAM/fl47c406jUne9mbf7ewdcdFdAkGGs6v4MGxCj0nXexZkrxer2bOnKnExER9+eWXMsaofv36hVUbgAC1cq9R92+8ynKlBZ1tXcnM7ACQS77figsWLNCgQYNUqVIlde3aVd9//70efPBBrV69WklJSYVdI4AA8vFGVy3+51WlEpZW3BBGuAKAfOS0YP3444+aNGmSPvnkE+3YsUPlypXTzTffrD59+qh58+b+rBFAAHBco6dXR+i19Y76XWjpP1fbKhbGeCsAyE+YJCUkJGjjxo0qWbKkunXrpj59+ui6666Tbdv+rg9AANh7zOiWeY7mbY/Q6Cs8erg+M7MDwKmESVKdOnU0cuRIdevWTcWLF/d3TQACyMq9Rj1me3XEK3129VF1rxPj75IAIOCFSdL//vc/f9cBIABNXO9q0GJH9ctYWtTOVqkTzIcHAGeC0akA8jjhGN37naP+Cx39rZalb7vYii9FlyAAnKlTTtMAoOjZetjoxrmOVu41GtfCo4F1GG8FAGeLgAUgx8xUV3+b76hUuLS4i63LK9DIDQDngm9PAHJcoxErHHWc6eiKCpZW3hBGuAKA80ALFlDEpR016jPP0fydRs9c5tHjDT3y0CUIAOeFgAUUYQt3uuozz5HXSLM72Gp9Aa1WAOALfJsCRZDjGj2z0lHr6Y5qx1j66YYwwhUA+BAtWEARszPTqO98R/N3GI1o7NGTjTyyPXQJAoAvEbCAIuSbba76LXDkkTSnI12CAFBQ+HYFioATjtGwZY6u/9pRw1hLP/ekSxAAChItWECI25CefZVg0j6jF5p69FgDrhIEgIJGwAJClDFGEzcY3fedo8olpCXdbDUtT6sVABQGAhYQgg4eNxq02NEnm4zuSLA0trmtUuG0WgFAYSFgASFmwQ5Xty10lH5Cmtza1o21aLUCgMLGNy8QIo55jR79IXtuqxpRln7uEUa4AgA/oQULCAFJ+4z6zfdqfbr08hUe/b0+A9kBwJ8IWEAQc1yj0atcPfmjq7qlpRUr5Lp8AAAfoElEQVQ3hKl+LMEKAPyNgAUEqfUHje5Y5GjJbqMhDTx6uolHkTbhCgACAQELCDKuMXrtF1ePL3d1QUlpYWdbV1dmrBUABBICFhBEktOzW62+3WX0wCUejWrqUUmmXwCAgEPAAoKAa4zeXONq6DJXlUtICzrbakmrFQAELAIWEOB+O2h05yJH3+02uvdij1643MOkoQAQ4AhYQIDKco1e+tnVyJWuqpWi1QoAggkBCwhAK/a4GrDI0ZoD0mOXejSisUfFw2i1AoBgQcACAsjhLKOnfnT1r19cNYiVlncPU6NyBCsACDYELCBAfLXF1X1LHKUdlUZd5tHDl3oU7iFcAUAwImABfrbtsNED3zv6IsWofRVL8zvZqhlNsAKAYEbAAvzE6xq9udbVEytclQqTJre21bumJYs1BAEg6BGwAD/4bpere79ztGq/dPfF2ROGxkQQrAAgVBCwgEK0O9NoyDJH/91gdHl5S8u6e3RZeaZeAIBQQ8ACCsEf3YEjVrgK90jvXG3rjosseegOBICQRMACCtjc7a4e+j57TqvBdT169jKPYosRrAAglBGwgAKSnG706FJHX24xuqqipeXdbTUpT7ACgKKAgAX4WMYJo2d/cjXmF1eViksft7Z1I1cHAkCRQsACfMTrGo1f52rEj64OnZCeaOTRo5d6VIIlbgCgyCFgAefJGKNpW42GLnP060Gp74WWnm9qq0opghUAFFUELOA8rNjj6tGlrhbuNGodZ+nDa201Zu1AACjy/DYBz7Fjx9S9e3clJCSoQYMGateunZKTk/Nsl5KSItu21bBhw5y/jRs3+qFi4P9tzjDqM8+rplMd7T1mNP16W3M6Eq4AANn82oI1cOBAdejQQZZl6Y033tCdd96pBQsW5NkuKipKSUlJhV8g8Bd7jho9l+TqrbWuyhXLns+qf4KlMBZlBgD8id9asIoVK6aOHTvmXFnVrFkzpaSk+Ksc4JSOZBk995OjWpO9mrDO1VONPUq+KUx31vEQrgAAeQTMGKyxY8eqW7du+T525MgRNWnSRMYYde/eXcOHD5dt2yfdV0ZGRq7bkZGRioyM9Gm9KBq8rtGE9Ub//NHR3mPSvRd7NLyRR+WYKBQAcAoBEbBGjRql5ORkzZ07N89jlStX1vbt21WhQgXt379fN910k1555RUNGTLkpPurWrVqrttDhgzR0KFDfV43zt+BAwf8XUK+jJFm7AjTM2sitOGQrV5Vs/SPS46rWkkjZUr7M/1doX8E6vFC/jhewYNjFVxiY2NPu43fA9bo0aP1+eefa86cOSpRokSexyMjI1WhQgVJ2W/ojjvu0KRJk04ZsFJTUxUdHZ1rH7RgBa4z+aAWpu92uRqyzNWS3UZtL7D0cVtbjcuFS8r7+SyKAu144dQ4XsGDYxVa/BqwXn31VSUmJmrOnDkqXbp0vtukpaWpTJkyCg8P1/Hjx/X555+rUaNGp9xvdHR0roAFnIlfDxg9vjx7aZuGZaVvOthqV8VvwxQBAEHMbwFr27ZteuSRR1SzZk1de+21krJbmpYuXaoRI0YoLi5OgwcP1uLFizVixAjZti2v16vWrVtr+PDh/iobIWjHEaOnVjoav84ovqT04bW2bqllycPSNgCAc2QZY4y/i/CVjIwMxcTEKD09nRasILF//36/NYunnzB66WdX/1rtqkRY9tI2d1/sUaRNsDoZfx4vnD2OV/DgWIUev4/BAgrbccfo32tdPfuTq0yv9Pf6Hg1p4FFMBMEKAOAbBCwUGa4x+nij0fDljrYeke5IsPRUE1sXlCRYAQB8i4CFImH2NldDlzn6aZ/UrZql6e1tXVyGYAUAKBgELIS0n/YaDVvm6JvtRs0rWvq2i0ctKnFlIACgYBGwEJI2Zxg9+aOjj5KNLoqRvmhnq1s1K2dpJgAAChIBCyFl7zGj537KXoy5bDHp7Ra27riIxZgBAIWLgIWQkOk1GvuLqxeSXBlJIxp79FA9j0qGE6wAAIWPgIWg5nWN3v99MeY9x6S763r0RCOPyhcnWAEA/IeAhaBkjNH/tmQvbfPrQemWWpaevcxWzWiCFQDA/whYCDpLdrsautTV4t1GbeIsfdDKVpPyBCsAQOAgYCFo/HbQ6PFljqZuMWoQK81sb+u6KlwZCAAIPAQsBLydmUZP/ehq/DpXVUpKH7Sy1edCFmMGAAQuAhYCVsYfizH/4qqYLb18hUf3sBgzACAIELAQcE44RuN+dfXMT64OZ0kP1fNoaAOPSkcSrAAAwYGAhYDhGqPJG42Gr3C05bB0e4KlpxrbqlKKYAUACC4ELASEudtdDV3m6se9Rl3iLX11na1LYglWAIDgRMCCX60+6NHzS72atc2oWQVLizrburoyizEDAIIbAQt+kXLI6MkVjj5KLqHaMUaftbV1Q3WmXAAAhAYCFgrVvmNGo5JcvbHGVWykNLrRcT3QuBSLMQMAQgoBC4Xi6B+LMf/syjXSE408eri+R8cPZRGuAAAhh4CFAuV1jSauN/rnSkdpR6XBdT168k+LMR/3c30AABQEAhYKhDFG07YaDVvmaO1B6aaalp5raqsWizEDAIoAAhZ87vvdrob8vhjztZUtvd/Ko6bluTIQAFB0ELDgM+sOGv1juaPPU4wujZW+bm/rehZjBgAUQQQsnLedmUZP/+jq3XWuLigp/beVrT61LNkMXgcAFFEELJyzjBNGL69y9epqV5G29OLlHt17sUfFwghWAICijYCFs3bCMXr798WYD2VJD9bzaBiLMQMAkIOAhTPmGqMpm7IXY958SOpf29JTTWxVZTFmAAByIWDhjMzfkX1l4Iq9Rp3jLU1tZ6seizEDAJAvAhZOadU+o6HLHM3cZnRFBUsLO9u6hsWYAQA4JQIW8rXlkNGIHx19sMHowmjp07a2erAYMwAAZ4SAhVz2/74Y8+trXJWJlN68yqM763gUzpQLAACcMQIWJGUvxvzaL66e/9mVY6Thvy/GXCqcYAUAwNkiYBVxjmv03w3Z3YG7Mn9fjLmxRxWKE6wAADhXBKwiyhij6VuNhi13tOaA1LuGpVFNbV0YQ7ACAOB8EbCKoKVp2VMuLNpl1KqypWXdWYwZAABfImAVIesPGv1jhaPPNhvVj5VmtLfVnsWYAQDwOQJWEbAr0+jpla7e+c1VXAnp/Za2+l7IYswAABQUAlYIO3TCaPRqV6+schVhSy9c7tF9LMYMAECBI2CFoBOO0X9+czVypauMLOnBSzwa1tCjMizGDABAoSBghRBjjD75fTHmTRnSbQmWRrIYMwAAhY6AFSL+vBhzp6qWvmhnqz6LMQMA4BcErCC3al/2XFZfpxpdXt7Sgs62WrIYMwAAfkXAClJbDxuNWOHovxuMakVLU9rY6lmDKRcAAAgEBKwgs/+Y0fM/Zy/GHBMhvXGVR3exGDMAAAGFgBUkjnqN3ljjalSSqyxXerxB9mLMUREEKwAAAg0BK8A5rtEHydndgTszpYF1PRrRyKOKJQhWAAAEKgJWgDLGaEaq0bBljn75fTHm55raqs1izAAABDwCVgBaluZqyDJXC3cataxsaWk3jy6vwJWBAAAECwJWANmQbvSP5Y4+3WxUr4w07XpbHatyZSAAAMGGgBUAdmcajfzJ1X9+dVWphDShpa1+LMYMAEDQImD50eEso9GrXI1e5SrcI41q6tF9l3hUnMWYAQAIagQsP8hyjd75zdXTK12ln5Duv8Sjxxt4FFuMYAUAQCggYBUiY4w+3Zw9zmpjhnRrbUsjL7MVz2LMAACEFAJWIVm4M3sx5mV7jDpUtfRZW1uXliVYAQAQighYBWz1/uy5rGakGl1WztK8TraujWPKBQAAQhkBq4CkHjYa8aOjieuNakZLk1vb6l2TKRcAACgKCFg+duC40fNJrl5b4yo6XHqtuUcD63gUYROsAAAoKghYPnLMa/TG2uzFmI870pBLPXr0Uo+iWYwZAIAih4B1nhzX6MNkoydXONqRKQ2s49GIxh5VYjFmAACKLALWOTLGaOY2o6HLHK3eL/WsYWnUZbYSShOsAAAo6ghY52D5nuwpFxbsNLq6kqXvu3rUrCJXBgIAgGwErLOQnG40fIWjTzYZXVJG+uo6W53iuTIQAADkRsA6A2lHjZ5Z6Wrc74sxv3eNrVtrsxgzAADIHwHrFA5nGb262tXLq1zZlvTsZR49UI/FmAEAwKkRsPKR5Rq9+/tizAeOZy/G/I+GLMYMAADODAHrT4wx+jwlezHmDelSv9qWRjaxVS2KYAUAAM4cAet3i3a6GrLM1dI0o/ZVLH3SxlYDFmMGAADnoMgHrDX7jYYtdzRtq1GTcpbmdrTV+gKmXAAAAOeuyAasbX8sxrzBqHop6ePfF2P2MOUCAAA4T0UuYB08bvTCz67G/uKqVLg0pplHg+qyGDMAAPCdIhOwjnmN3lzr6rnfF2N+jMWYAQBAAfHrYKMNGzaoefPmSkhIUNOmTbVmzZp8t5s2bZrq1Kmj2rVrq0ePHsrIyDjj13Bco/+ud3XRFK+GLnN1Yw2Pkm8K08jLbMIVAAAoEH4NWIMGDdLAgQO1fv16DR06VP3798+zzeHDhzVgwABNnTpVGzZsUFxcnJ555pnT7tsYo5mprhp/4dVtCx01KWdpTa8wjbvaVuUSBCsAAFBw/Baw0tLStGLFCvXt21eS1LNnT6Wmpio5OTnXdl9//bUaNWqkOnXqSJLuueceJSYmnnLfP+01ajvDUYeZjqLDLS3pauvzdmG6qDTBCgAAFDy/BazU1FRVrlxZYWHZw8Asy1J8fLy2bt2aa7utW7eqWrVqOberV6+unTt3yuv1nnTfraZ5teOwo49bHNe0lplqXDqrYN4EAABAPkJzkPukB/Tb8sm62XUkSUOGDNHQoUP9XBTyc+DAAX+XgLPA8QouHK/gwbEKLrGxsafdxm8Bq2rVqjktUWFhYTLGaOvWrYqPj8+1XXx8vGbPnp1zOyUlJVfLV35SP31R0dH/zrkdGRmpyMhI378J+MSZfFARODhewYXjFTw4VqHFb12EFSpUUOPGjfXhhx9Kkj777DNVqVJFF154Ya7t2rdvr5UrV+q3336TJL311lu6+eabT7nv6OjoXH+EKwAAUJj82kX49ttvq3///ho1apSio6M1YcIESdKIESMUFxenwYMHKyoqSu+++666d+8ur9erevXqaeLEif4sGwAA4JQsY4zxdxG+kpGRoZiYGKWnpys6Otrf5eAM7N+/n2bxIMLxCi4cr+DBsQo9rGoMAADgYwQsAAAAHyNgAQAA+BgBCwAAwMcIWAAAAD5GwAIAAPAxAhYAAICPEbAAAAB8jIAFAADgYwQsAAAAHyNgAQAA+BgBCwAAwMcIWAAAAD5GwAIAAPAxAhYAAICPEbAAAAB8jIAFAADgYwQsAAAAHyNgAQAA+BgBCwAAwMcIWAAAAD5GwAIAAPAxAhYAAICPhVTAOn78eK7/IrAdP35cL774IscrSHC8ggvHK3hwrILL8ePH9dRTT532eFnGGFNINRW4bdu2qWrVqkpNTVWVKlX8XQ5OIyMjQzExMUpPT1d0dLS/y8FpcLyCC8creHCsgsuZHq+QasECAAAIBAQsAAAAHwvzdwG+9Edv56FDh5SRkeHnanA6fxwjjlVw4HgFF45X8OBYBZc/jtPpRliF1BisTZs2qVatWv4uAwAAhLi0tDSVL1/+pI+HVMByXVc7duxQVFSULMvydzkAACBEnS5rhFTAAgAACAQMcgcAAPAxAhYAAICPhVTA2rBhg5o3b66EhAQ1bdpUa9as8XdJyMexY8fUvXt3JSQkqEGDBmrXrp2Sk5P9XRbOwIQJE2RZlqZOnervUnAKx48f13333afatWurfv366tu3r79LwknMmDFDjRs3VsOGDVWvXj1NnDjR3yXhTx544AFVr15dlmUpKSkp5/60tDS1b99etWvXVr169bRo0aI8zw2pgDVo0CANHDhQ69ev19ChQ9W/f39/l4STGDhwoNatW6eff/5Z3bp105133unvknAaKSkpeuedd9SsWTN/l4LTGDZsmCzL0vr167V69WqNHj3a3yUhH8YY9e3bV++//76SkpI0bdo0DRo0SIcOHfJ3afhdr169tHjxYlWrVi3X/cOGDVOzZs20YcMGTZgwQX369FFWVlaubUImYKWlpWnFihU5/6fWs2dPpaam0jISgIoVK6aOHTvmXH3RrFkzpaSk+LconJLrurrzzjv1+uuvKzIy0t/l4BSOHDmi8ePH67nnnss5xypVquTnqnAylmXp4MGDkrLnVypbtiznWAC55ppr8l1675NPPtHgwYMlSU2bNlVcXJwWLlyYa5uQCVipqamqXLmywsKy5061LEvx8fHaunWrnyvD6YwdO1bdunXzdxk4hVdffVVXXXWVmjRp4u9ScBobN25UbGysRo0apcsuu0xXX3215s6d6++ykA/LsjR58mT16NFD1apVU4sWLTRx4kRFRET4uzScwr59+5SVlZXrf1yqV6+eJ2+E1EzuCD6jRo1ScnIyPwAB7JdfftFnn32W7xgDBB6v16stW7bo4osv1gsvvKCffvpJ7dq105o1a1SxYkV/l4c/8Xq9evbZZ/X555/rmmuu0fLly9W1a1etXr1a5cqV83d5OE8h04JVtWpV7dy5U16vV1J23/bWrVsVHx/v58pwMqNHj9bnn3+ur7/+WiVKlPB3OTiJb7/9VikpKapdu7aqV6+uH374QQMHDtS///1vf5eGfMTHx8vj8ehvf/ubJKlRo0aqUaOGVq9e7efK8FdJSUnasWOHrrnmGknZXU1VqlTRTz/95OfKcCply5ZVWFiYdu3alXNfSkpKnrwRMgGrQoUKaty4sT788ENJ0meffaYqVarowgsv9HNlyM+rr76qxMREzZ49W6VLl/Z3OTiFu+++Wzt37lRKSopSUlLUrFkz/ec//9Hdd9/t79KQj3LlyqlNmzaaNWuWJGnz5s3avHmz6tat6+fK8Fd/NAz8+uuvkqTk5GRt3LhRF110kZ8rw+n07t1b48aNkyQtX75c27dvV8uWLXNtE1Izua9bt079+/fXvn37FB0drQkTJqh+/fr+Lgt/sW3bNlWtWlU1a9ZUVFSUJCkyMlJLly71c2U4E61atdJDDz2k7t27+7sUnMSmTZs0YMAA7d27Vx6PRyNGjFDPnj39XRbykZiYqFGjRsnj8ch1XT3++OPq06ePv8vC7wYNGqTp06dr165dKlu2rKKiopScnKzdu3erX79+2rx5syIiIvTGG2/o2muvzfXckApYAAAAgSBkuggBAAACBQELAADAxwhYAAAAPkbAAgAA8DECFgAAgI8RsAAAAHyMgAXgjDRo0ECWZenbb78t0NepXr267rvvvpzb/fv3V7169c56P5ZlafTo0afcZsGCBbIsSytWrDjr/efno48+0uWXX66YmBhFR0erbt26uvPOO5WWlpazzZgxYzRjxgyfvF5+zuR9Ayh4BCwAp7VmzRqtWrVKkjRp0qQCfa0vvvhCjz76aIG+RkF46aWX1K9fP1199dWaPHmyJk+erDvuuEMrVqzQjh07crYr6IAFIDCw2DOA0/roo4/k8XjUsmVLTZkyRa+99prCw8ML5LUaNWpUIPstaK+99pr69++vV155Jee+Dh066LHHHpPrun6sDIA/0IIF4JSMMUpMTFTr1q318MMPa9++fZo5c2bO40eOHFHJkiXz7Zbq1auXrrzyypzt7rvvPl100UUqUaKEqlevrsGDBys9PT3Xc/7aRfhXO3fu1B133KGaNWuqePHiql27tv7xj3/o+PHjebb1er0aMmSIypcvr6ioKPXv31+HDh067fsdPXq0EhISFBkZqZo1a+pf//rXKZ8jSQcOHFDlypXzfczj8eS8ty1btujNN9+UZVmyLEvvv/++JMl1XT377LOqXr26IiMjVadOHb399tt59vXrr7+qR48eio2NVYkSJdSgQQMlJiaetK7NmzerVq1a6tChg44ePXra9wHAN2jBAnBKS5YsUUpKikaMGKHrr79eZcuW1aRJk9SlSxdJUsmSJdW1a1d9/PHHubr2Dh06pOnTp+ull16SJGVmZiorK0sjR45UpUqVlJqaqueee07du3fX/Pnzz7ievXv3qnTp0nr55ZdVrlw5rV+/Xk899ZR27typCRMm5Nr29ddfV+PGjTVx4kRt3rxZw4YN07Fjx/Txxx+fdP8PPvig3n33XQ0fPlxXXHGFlixZoqFDh6p48eIaPHjwSZ/XpEkTjRs3TjVq1FDnzp1VqVKlPNt88cUX6tixo1q0aKFHHnlEklSrVi1J0mOPPaaxY8fqiSeeUPPmzTVt2jQNHjxYWVlZOYFzw4YNuvLKK1W1alW99tprqlSpkn755Rdt3bo135rWrVunNm3a6IorrlBiYqIiIiJO/Y8LwHcMAJzCPffcY4oVK2YOHjxojDFm0KBBpkSJEubQoUM523z55ZdGklm/fn3OfRMnTjS2bZtdu3blu9+srCyzePFiI8msW7cu5/5q1aqZe++9N+f2bbfdZi655JKT1peVlWU++ugjExYWZo4cOZJzvyRTo0YN4/V6c+4bP368sSzL/Prrr8YYY+bPn28kmeXLlxtjjElOTjaWZZm3334712sMHTrUVKpUyTiOc9I6Vq9ebS688EIjKee1H3jgAbN58+Zc2/31/RljzJ49e0x4eLgZNmxYrvtvueUWU758+Zz30KdPH1O+fHmTnp5+0jokmZdfftkkJSWZChUqmH79+uX6NwBQOOgiBHBSXq9XU6ZMUceOHRUTEyNJ6tOnjzIzM/XFF1/kbNe+fXuVLl06V8vQxx9/rGuvvVYVK1bMue+DDz5Qo0aNVKpUKYWHh6tFixaSpPXr159xTcYYjRkzRhdffLGKFy+u8PBw/e1vf5PX69WmTZtybdulSxfZtp1zu1evXjLGaNmyZfnue86cOZKknj17yuv15vy1bdtWu3btUmpq6knrqlevntasWaPp06frwQcfVExMjF577TVdeumlSkpKOuV7Wrp0qbKystS7d+9c9990003as2dPzr/P3Llz1atXL0VHR59yf8uXL1erVq3Uo0cPTZw4Mde/AYDCQcACcFLffPON9uzZoy5duujgwYM6ePCg6tevr8qVK+e6mjAiIkI9e/bMCVj79u3T7Nmz1adPn5xtvvjiC9166626/PLL9cknn+iHH37ICWnHjh0745rGjBmjRx55RN26ddOXX36pZcuW6c0338x3PxUqVMh1Ozo6WsWKFdPOnTvz3ffevXtljFG5cuUUHh6e89euXTtJOmXA+uPfoWPHjhozZox++uknzZw5U5mZmRo5cuQpn3fgwAFJyhVG/3x7//79krL/XePi4k65Lyk7KB45ckQDBgyQZVmn3R6A7zEGC8BJ/RGibr/9dt1+++25HtuzZ4/S0tJyQswtt9yi8ePHa9WqVfr+++9l27Z69OiRs/2UKVPUsGHDXAO3Fy5ceNY1TZkyRV27dtXzzz+fc9/atWvz3fbP809JUkZGho4dO3bSweixsbGyLEuLFy/Od7zSRRdddFa1Xn/99WrQoIF+/fXXU24XGxubU+8FF1yQc//u3btzPV62bNlcUz6czJAhQ7R8+XJdf/31WrBggerXr39WdQM4f7RgAchXZmamvvzyy5xB6H/+S0xMlNfr1eTJk3O2b9WqlSpVqqTExEQlJiaqQ4cOOd2KknT06NE8oeWjjz4667rOZj9fffWVHMfJuf3pp5/Ksiw1bdo03+3btGkjKbul6LLLLsvzFxUVddK6/ghDf601NTU114D3iIiIPC1tl19+ucLDwzVlypRc93/yySeqUKGCEhISJElt27bVp59+etorIW3bVmJiopo3b662bdtq3bp1p9wegO/RggUgX19++aUOHz6sBx54QK1atcrz+EsvvaRJkybp/vvvl5T9o37jjTfq/fffV1paWp4r9dq1a6d7771XzzzzjK688krNmDFDc+fOPeu62rVrp7Fjx+qNN95QQkKCPvzwQyUnJ+e77fHjx9W9e3fdc8892rx5s4YOHapevXqpbt26+W6fkJCge++9V/369dNjjz2mK664QllZWVq/fr3mz5+vqVOnnrSu+vXrq0uXLrr++utVuXJlbd++XW+88Yb27t2rBx98MGe7unXrat68eZo9e7bKlCmjGjVqqFy5crr//vv18ssvq1ixYmrWrJlmzJihSZMm6fXXX88ZQ/XPf/5T06ZNU4sWLTRkyBBVrlxZa9euVWZmpoYMGZKrnvDwcH366afq0qWL2rRpo0WLFqlmzZpn+88N4Fz5eZA9gADVuXNnEx8fb1zXzffxMWPGGEkmOTk5577vv//eSDKlSpUymZmZubb3er3mkUceMeXLlzdRUVGmV69e5ocffjCSzJQpU3K2O91VhIcOHTL9+/c3ZcqUMWXKlDF33XWX+eqrr3JdDWhM9tV0zz//vHn44YdNbGysKVWqlOnXr1+uK/D+ehWhMca4rmtef/11U69ePRMREWFiY2PNlVdeaV599dVT/nu9+eabpn379uaCCy4wERERJi4uzrRv397Mmzcv13a//PKLufrqq01UVJSRZCZMmGCMMcZxHDNy5EgTHx9vwsPDTe3atc24cePyvM6aNWtM165dTXR0tClRooRp2LCh+fjjj3O975dffjnn9pEjR8z/tWvHNAAEMQwE9UyCJPxxhIiPwVeRTjrNMHC3hbs7VZWZ+d0A7PmS5F7eAQC8xwcLAGCZwAIAWCawAACWCSwAgGUHRebG02FGmswAAAAASUVORK5CYII=\" />"
      ]
     },
     "execution_count": 12,
     "metadata": {},
     "output_type": "execute_result"
    }
   ],
   "source": [
    "plot(NR.s_vec,V,xlabel=\"Available Stock\",ylabel=\"Value\",xlim=(0,10),ylim=(-1,10))\n",
    "#s = 3でValueが0にならない"
   ]
  },
  {
   "cell_type": "code",
   "execution_count": 13,
   "metadata": {},
   "outputs": [
    {
     "data": {
      "text/html": [
       "<img src=\"data:image/png;base64,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\" />"
      ]
     },
     "execution_count": 13,
     "metadata": {},
     "output_type": "execute_result"
    }
   ],
   "source": [
    "Φ = BasisMatrix(fspace, Expanded(), NR.s_vec, 0)\n",
    "coeffs_V = Φ.vals[1] \\ NR.s_vec\n",
    "order = 1\n",
    "B1 = evalbase(fspace.params[1], NR.s_vec, order)\n",
    "interp1 = B1 * coeffs_V\n",
    "plot(NR.s_vec, interp1,xlabel=\"Available Stock\", xlim = (0,10),ylim=(0,10))\n",
    "#微分して1  ====>    y=x+cという形状で補間されている....?"
   ]
  },
  {
   "cell_type": "code",
   "execution_count": 14,
   "metadata": {},
   "outputs": [
    {
     "data": {
      "text/plain": [
       "100-element Array{Float64,1}:\n",
       "  0.0      \n",
       "  0.0343643\n",
       "  0.103093 \n",
       "  0.206186 \n",
       "  0.309278 \n",
       "  0.412371 \n",
       "  0.515464 \n",
       "  0.618557 \n",
       "  0.721649 \n",
       "  0.824742 \n",
       "  0.927835 \n",
       "  1.03093  \n",
       "  1.13402  \n",
       "  ⋮        \n",
       "  8.96907  \n",
       "  9.07216  \n",
       "  9.17526  \n",
       "  9.27835  \n",
       "  9.38144  \n",
       "  9.48454  \n",
       "  9.58763  \n",
       "  9.69072  \n",
       "  9.79381  \n",
       "  9.89691  \n",
       "  9.96564  \n",
       " 10.0      "
      ]
     },
     "execution_count": 14,
     "metadata": {},
     "output_type": "execute_result"
    }
   ],
   "source": [
    "coeffs_V "
   ]
  },
  {
   "cell_type": "code",
   "execution_count": 15,
   "metadata": {},
   "outputs": [
    {
     "data": {
      "text/html": [
       "<img src=\"data:image/png;base64,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\" />"
      ]
     },
     "execution_count": 15,
     "metadata": {},
     "output_type": "execute_result"
    }
   ],
   "source": [
    "plot(NR.s_vec,coeffs_V)"
   ]
  },
  {
   "cell_type": "code",
   "execution_count": 16,
   "metadata": {},
   "outputs": [
    {
     "ename": "LoadError",
     "evalue": "\u001b[91mUndefVarError: s_vec not defined\u001b[39m",
     "output_type": "error",
     "traceback": [
      "\u001b[91mUndefVarError: s_vec not defined\u001b[39m",
      "",
      "Stacktrace:",
      " [1] \u001b[1minclude_string\u001b[22m\u001b[22m\u001b[1m(\u001b[22m\u001b[22m::String, ::String\u001b[1m)\u001b[22m\u001b[22m at \u001b[1m.\\loading.jl:515\u001b[22m\u001b[22m"
     ]
    }
   ],
   "source": [
    "plot(NR.s_vec,funeval(coeffs_V,fspace,s_vec),xlabel=\"Available Stock\",ylabel=\"funeval\")\n",
    "#補完する関数がsの1次関数になってしまっている"
   ]
  },
  {
   "cell_type": "code",
   "execution_count": 17,
   "metadata": {},
   "outputs": [
    {
     "ename": "LoadError",
     "evalue": "\u001b[91mfunction funeval does not accept keyword arguments\u001b[39m",
     "output_type": "error",
     "traceback": [
      "\u001b[91mfunction funeval does not accept keyword arguments\u001b[39m",
      "",
      "Stacktrace:",
      " [1] \u001b[1mkwfunc\u001b[22m\u001b[22m\u001b[1m(\u001b[22m\u001b[22m::Any\u001b[1m)\u001b[22m\u001b[22m at \u001b[1m.\\boot.jl:237\u001b[22m\u001b[22m",
      " [2] \u001b[1minclude_string\u001b[22m\u001b[22m\u001b[1m(\u001b[22m\u001b[22m::String, ::String\u001b[1m)\u001b[22m\u001b[22m at \u001b[1m.\\loading.jl:515\u001b[22m\u001b[22m"
     ]
    }
   ],
   "source": [
    "resid1 = V - funeval(coeffs_V,fspace,s_vec,xlabel=\"Available Stock\",ylabel=\"funeval\")\n",
    "plot(s_vec,resid)"
   ]
  },
  {
   "cell_type": "code",
   "execution_count": null,
   "metadata": {
    "collapsed": true
   },
   "outputs": [],
   "source": []
  }
 ],
 "metadata": {
  "kernelspec": {
   "display_name": "Julia 0.6.0",
   "language": "julia",
   "name": "julia-0.6"
  },
  "language_info": {
   "file_extension": ".jl",
   "mimetype": "application/julia",
   "name": "julia",
   "version": "0.6.0"
  }
 },
 "nbformat": 4,
 "nbformat_minor": 2
}
