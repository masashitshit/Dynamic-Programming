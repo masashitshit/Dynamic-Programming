{
 "cells": [
  {
   "cell_type": "code",
   "execution_count": null,
   "metadata": {
    "collapsed": true
   },
   "outputs": [],
   "source": []
  },
  {
   "cell_type": "code",
   "execution_count": 1,
   "metadata": {
    "collapsed": true
   },
   "outputs": [],
   "source": [
    "%matplotlib inline"
   ]
  },
  {
   "cell_type": "code",
   "execution_count": 4,
   "metadata": {
    "collapsed": true
   },
   "outputs": [],
   "source": [
    "import numpy as np"
   ]
  },
  {
   "cell_type": "code",
   "execution_count": null,
   "metadata": {
    "collapsed": true
   },
   "outputs": [],
   "source": [
    "struct SimpleOG{TI <: Integer, T <: Real,\n",
    "                TR <: AbstractArray{T}, TQ <: AbstractArray{T}}\n",
    "\n",
    "    sbar :: TI\n",
    "    beta :: T\n",
    "    price :: T\n",
    "    R :: TR\n",
    "    Q :: TQ\n",
    "end\n",
    "\n",
    "function SimpleOG{T <: Real}(;sbar::TI=100,price::T=1.0,beta::T=0.9)\n",
    "\n",
    "    c(s,x) = (x-1)^2/s\n",
    "    n = sbar + 1\n",
    "    m = sbar + 1\n",
    "\n",
    "    R = Matrix{T}(n, m)\n",
    "    Q = zeros(Float64,n,m,n)\n",
    "    \n",
    "    for i in 1:n\n",
    "        for j in 1:m\n",
    "            if j <= i\n",
    "                Q[i,j,i-j+1] = 1.0\n",
    "            else\n",
    "                Q[i,j,1] = 1.0\n",
    "            end\n",
    "        end\n",
    "    end\n",
    "    \n",
    "    for p in 1:n\n",
    "        for q in 1:m\n",
    "            if p <= q\n",
    "                R[p,q] = price*(q-1)-c(p,q)\n",
    "            else\n",
    "                R[p,q] = -Inf\n",
    "            end\n",
    "        end\n",
    "    end\n",
    "    \n",
    "    return SimpleOG(sbar,price,beta,R, Q)\n",
    "end"
   ]
  },
  {
   "cell_type": "code",
   "execution_count": 6,
   "metadata": {
    "collapsed": true
   },
   "outputs": [],
   "source": [
    "\n",
    "price = 1     # Market price of ore\n",
    "sbar = 100    # Upper bound of ore stock\n",
    "beta = 0.9    # Discount rate\n",
    "n = sbar + 1  # Number of states\n",
    "m = sbar + 1  # Number of actions\n",
    "\n",
    "# Cost function\n",
    "c = lambda s, x: x**2 / (1+s)"
   ]
  },
  {
   "cell_type": "code",
   "execution_count": 8,
   "metadata": {},
   "outputs": [],
   "source": [
    "R = np.empty((n, m))\n",
    "for s, x in itertools.product(range(n), range(m)):\n",
    "    R[s, x] = price * x - c(s, x) if x <= s else -np.inf"
   ]
  },
  {
   "cell_type": "code",
   "execution_count": 9,
   "metadata": {},
   "outputs": [
    {
     "data": {
      "text/plain": [
       "array([[ 0.        ,        -inf,        -inf, ...,        -inf,\n",
       "               -inf,        -inf],\n",
       "       [ 0.        ,  0.5       ,        -inf, ...,        -inf,\n",
       "               -inf,        -inf],\n",
       "       [ 0.        ,  0.66666667,  0.66666667, ...,        -inf,\n",
       "               -inf,        -inf],\n",
       "       ..., \n",
       "       [ 0.        ,  0.98989899,  1.95959596, ...,  0.98989899,\n",
       "               -inf,        -inf],\n",
       "       [ 0.        ,  0.99      ,  1.96      , ...,  1.96      ,\n",
       "         0.99      ,        -inf],\n",
       "       [ 0.        ,  0.99009901,  1.96039604, ...,  2.91089109,\n",
       "         1.96039604,  0.99009901]])"
      ]
     },
     "execution_count": 9,
     "metadata": {},
     "output_type": "execute_result"
    }
   ],
   "source": [
    "R"
   ]
  },
  {
   "cell_type": "code",
   "execution_count": 10,
   "metadata": {
    "collapsed": true
   },
   "outputs": [],
   "source": [
    "Q = np.zeros((n, m, n))\n",
    "for s, x in itertools.product(range(n), range(m)):\n",
    "    if x <= s:\n",
    "        Q[s, x, s-x] = 1\n",
    "    else:\n",
    "        Q[s, x, 0] = 1  # Arbitrary"
   ]
  },
  {
   "cell_type": "code",
   "execution_count": 11,
   "metadata": {},
   "outputs": [
    {
     "data": {
      "text/plain": [
       "array([[[ 1.,  0.,  0., ...,  0.,  0.,  0.],\n",
       "        [ 1.,  0.,  0., ...,  0.,  0.,  0.],\n",
       "        [ 1.,  0.,  0., ...,  0.,  0.,  0.],\n",
       "        ..., \n",
       "        [ 1.,  0.,  0., ...,  0.,  0.,  0.],\n",
       "        [ 1.,  0.,  0., ...,  0.,  0.,  0.],\n",
       "        [ 1.,  0.,  0., ...,  0.,  0.,  0.]],\n",
       "\n",
       "       [[ 0.,  1.,  0., ...,  0.,  0.,  0.],\n",
       "        [ 1.,  0.,  0., ...,  0.,  0.,  0.],\n",
       "        [ 1.,  0.,  0., ...,  0.,  0.,  0.],\n",
       "        ..., \n",
       "        [ 1.,  0.,  0., ...,  0.,  0.,  0.],\n",
       "        [ 1.,  0.,  0., ...,  0.,  0.,  0.],\n",
       "        [ 1.,  0.,  0., ...,  0.,  0.,  0.]],\n",
       "\n",
       "       [[ 0.,  0.,  1., ...,  0.,  0.,  0.],\n",
       "        [ 0.,  1.,  0., ...,  0.,  0.,  0.],\n",
       "        [ 1.,  0.,  0., ...,  0.,  0.,  0.],\n",
       "        ..., \n",
       "        [ 1.,  0.,  0., ...,  0.,  0.,  0.],\n",
       "        [ 1.,  0.,  0., ...,  0.,  0.,  0.],\n",
       "        [ 1.,  0.,  0., ...,  0.,  0.,  0.]],\n",
       "\n",
       "       ..., \n",
       "       [[ 0.,  0.,  0., ...,  1.,  0.,  0.],\n",
       "        [ 0.,  0.,  0., ...,  0.,  0.,  0.],\n",
       "        [ 0.,  0.,  0., ...,  0.,  0.,  0.],\n",
       "        ..., \n",
       "        [ 1.,  0.,  0., ...,  0.,  0.,  0.],\n",
       "        [ 1.,  0.,  0., ...,  0.,  0.,  0.],\n",
       "        [ 1.,  0.,  0., ...,  0.,  0.,  0.]],\n",
       "\n",
       "       [[ 0.,  0.,  0., ...,  0.,  1.,  0.],\n",
       "        [ 0.,  0.,  0., ...,  1.,  0.,  0.],\n",
       "        [ 0.,  0.,  0., ...,  0.,  0.,  0.],\n",
       "        ..., \n",
       "        [ 0.,  1.,  0., ...,  0.,  0.,  0.],\n",
       "        [ 1.,  0.,  0., ...,  0.,  0.,  0.],\n",
       "        [ 1.,  0.,  0., ...,  0.,  0.,  0.]],\n",
       "\n",
       "       [[ 0.,  0.,  0., ...,  0.,  0.,  1.],\n",
       "        [ 0.,  0.,  0., ...,  0.,  1.,  0.],\n",
       "        [ 0.,  0.,  0., ...,  1.,  0.,  0.],\n",
       "        ..., \n",
       "        [ 0.,  0.,  1., ...,  0.,  0.,  0.],\n",
       "        [ 0.,  1.,  0., ...,  0.,  0.,  0.],\n",
       "        [ 1.,  0.,  0., ...,  0.,  0.,  0.]]])"
      ]
     },
     "execution_count": 11,
     "metadata": {},
     "output_type": "execute_result"
    }
   ],
   "source": [
    "Q"
   ]
  },
  {
   "cell_type": "code",
   "execution_count": null,
   "metadata": {
    "collapsed": true
   },
   "outputs": [],
   "source": []
  }
 ],
 "metadata": {
  "kernelspec": {
   "display_name": "Python 3",
   "language": "python",
   "name": "python3"
  },
  "language_info": {
   "codemirror_mode": {
    "name": "ipython",
    "version": 3
   },
   "file_extension": ".py",
   "mimetype": "text/x-python",
   "name": "python",
   "nbconvert_exporter": "python",
   "pygments_lexer": "ipython3",
   "version": "3.6.1"
  }
 },
 "nbformat": 4,
 "nbformat_minor": 2
}
