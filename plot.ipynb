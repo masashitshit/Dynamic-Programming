{
 "cells": [
  {
   "cell_type": "code",
   "execution_count": 1,
   "metadata": {
    "collapsed": true
   },
   "outputs": [],
   "source": [
    "using Plots"
   ]
  },
  {
   "cell_type": "code",
   "execution_count": 10,
   "metadata": {},
   "outputs": [
    {
     "ename": "LoadError",
     "evalue": "\u001b[91mDimensionMismatch(\"Cannot multiply two vectors\")\u001b[39m",
     "output_type": "error",
     "traceback": [
      "\u001b[91mDimensionMismatch(\"Cannot multiply two vectors\")\u001b[39m",
      "",
      "Stacktrace:",
      " [1] \u001b[1mpower_by_squaring\u001b[22m\u001b[22m\u001b[1m(\u001b[22m\u001b[22m::StepRangeLen{Float64,Base.TwicePrecision{Float64},Base.TwicePrecision{Float64}}, ::Int64\u001b[1m)\u001b[22m\u001b[22m at \u001b[1m.\\intfuncs.jl:166\u001b[22m\u001b[22m",
      " [2] \u001b[1mliteral_pow\u001b[22m\u001b[22m\u001b[1m(\u001b[22m\u001b[22m::Base.#^, ::StepRangeLen{Float64,Base.TwicePrecision{Float64},Base.TwicePrecision{Float64}}, ::Type{Val{2}}\u001b[1m)\u001b[22m\u001b[22m at \u001b[1m.\\intfuncs.jl:205\u001b[22m\u001b[22m"
     ]
    }
   ],
   "source": [
    "import Plots\n",
    "x = linspace(0, 10, 200)\n",
    "y = sin.(-x^2)\n",
    "Plots.plot(x, y, color=:blue, linewidth=2, label=\"sine\")"
   ]
  },
  {
   "cell_type": "code",
   "execution_count": 14,
   "metadata": {},
   "outputs": [
    {
     "ename": "LoadError",
     "evalue": "\u001b[91mDimensionMismatch(\"Cannot multiply two vectors\")\u001b[39m",
     "output_type": "error",
     "traceback": [
      "\u001b[91mDimensionMismatch(\"Cannot multiply two vectors\")\u001b[39m",
      "",
      "Stacktrace:",
      " [1] \u001b[1mpower_by_squaring\u001b[22m\u001b[22m\u001b[1m(\u001b[22m\u001b[22m::StepRangeLen{Float64,Base.TwicePrecision{Float64},Base.TwicePrecision{Float64}}, ::Int64\u001b[1m)\u001b[22m\u001b[22m at \u001b[1m.\\intfuncs.jl:166\u001b[22m\u001b[22m",
      " [2] \u001b[1mliteral_pow\u001b[22m\u001b[22m\u001b[1m(\u001b[22m\u001b[22m::Base.#^, ::StepRangeLen{Float64,Base.TwicePrecision{Float64},Base.TwicePrecision{Float64}}, ::Type{Val{2}}\u001b[1m)\u001b[22m\u001b[22m at \u001b[1m.\\intfuncs.jl:205\u001b[22m\u001b[22m"
     ]
    }
   ],
   "source": [
    "import PlotlyJS\n",
    "x = linspace(0, 10, 200)\n",
    "y = -x^2\n",
    "# specify which module scatter belongs to since both have scatter\n",
    "PlotlyJS.plot(PlotlyJS.scatter(x=x, y=y, marker_color=\"blue\", line_width=2))"
   ]
  },
  {
   "cell_type": "code",
   "execution_count": null,
   "metadata": {
    "collapsed": true
   },
   "outputs": [],
   "source": []
  }
 ],
 "metadata": {
  "kernelspec": {
   "display_name": "Julia 0.6.0",
   "language": "julia",
   "name": "julia-0.6"
  },
  "language_info": {
   "file_extension": ".jl",
   "mimetype": "application/julia",
   "name": "julia",
   "version": "0.6.0"
  }
 },
 "nbformat": 4,
 "nbformat_minor": 2
}
