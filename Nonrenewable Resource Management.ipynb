{
 "cells": [
  {
   "cell_type": "markdown",
   "metadata": {},
   "source": [
    "# Nonrenewable Resource Management"
   ]
  },
  {
   "cell_type": "markdown",
   "metadata": {},
   "source": [
    "x∈{0,1}\n",
    "\n",
    "$$r=\\frac{1}{f}$$\n",
    "$$\\left(x + y\\right)^{5}$$\n",
    "\n",
    "ad"
   ]
  },
  {
   "cell_type": "code",
   "execution_count": 1,
   "metadata": {
    "collapsed": true
   },
   "outputs": [],
   "source": [
    "using QuantEcon\n",
    "using Plots"
   ]
  },
  {
   "cell_type": "code",
   "execution_count": 3,
   "metadata": {},
   "outputs": [],
   "source": [
    "mutable struct NonrenewableResource\n",
    "    a1::Float64 # inverse demand function parameter\n",
    "    a2::Float64 # inverse demand function parameter\n",
    "    b1::Float64 # cost function parameter\n",
    "    b2::Float64 # cost function parameter\n",
    "    delta::Float64 # Discount factor\n",
    "    p_vec::Vector{Float64} # Profits grid\n",
    "end"
   ]
  },
  {
   "cell_type": "code",
   "execution_count": 10,
   "metadata": {},
   "outputs": [
    {
     "data": {
      "text/plain": [
       "NonrenewableResource(10.0, 0.8, 12.0, 1.0, 0.9, [-10.0, -9.79798, -9.59596, -9.39394, -9.19192, -8.9899, -8.78788, -8.58586, -8.38384, -8.18182  …  8.18182, 8.38384, 8.58586, 8.78788, 8.9899, 9.19192, 9.39394, 9.59596, 9.79798, 10.0])"
      ]
     },
     "execution_count": 10,
     "metadata": {},
     "output_type": "execute_result"
    }
   ],
   "source": [
    "NR = NonrenewableResource(10,0.8,12,1.0,0.9,collect(linspace(-10,10,100)))"
   ]
  },
  {
   "cell_type": "code",
   "execution_count": 4,
   "metadata": {},
   "outputs": [
    {
     "data": {
      "text/plain": [
       "p (generic function with 1 method)"
      ]
     },
     "execution_count": 4,
     "metadata": {},
     "output_type": "execute_result"
    }
   ],
   "source": [
    "function p(x)\n",
    "    return a1-a2*x\n",
    "end\n",
    "# inverse demand function"
   ]
  },
  {
   "cell_type": "code",
   "execution_count": 5,
   "metadata": {},
   "outputs": [
    {
     "data": {
      "text/plain": [
       "c (generic function with 1 method)"
      ]
     },
     "execution_count": 5,
     "metadata": {},
     "output_type": "execute_result"
    }
   ],
   "source": [
    "function c(s,x)\n",
    "    return b1*x-0.5*b2*x*(2s-x)\n",
    "end\n",
    "# cost function "
   ]
  },
  {
   "cell_type": "code",
   "execution_count": null,
   "metadata": {
    "collapsed": true
   },
   "outputs": [],
   "source": [
    "function update_Bellman(NR::NonrenewableResource,V::vector)\n",
    "    \n",
    "    a1,a2,b1,b2,delta = NR.a1,NR.a2,NR.b1,NR.b2,NR.delta\n",
    "    V_func = LinInterp(IE.p_vec, V)\n",
    "    V_new = similar(V)\n",
    "    e, w = qnwnorm(5, 0, s)\n",
    "    \n",
    "    for (p_idx, p) in enumerate(IE.p_vec)\n",
    "        V_new[p_idx] = max(p + d * dot(V_func.(e .+ pibar .+ (g*(p-pibar))), w),\n",
    "                           -k0 + d * dot(U_func.(e .+ pibar .+ (g*(p-pibar))), w))\n",
    "    end\n",
    "    \n",
    "    for (p_idx, p) in enumerate(IE.p_vec)\n",
    "        U_new[p_idx] = max(p - k1 + d * dot(V_func.(e .+ pibar .+ (g*(p-pibar))), w),\n",
    "                           d * dot(U_func.(e .+ pibar .+ (g*(p-pibar))), w))\n",
    "    end\n",
    "    \n",
    "    return V_new, U_new\n"
   ]
  },
  {
   "cell_type": "code",
   "execution_count": null,
   "metadata": {
    "collapsed": true
   },
   "outputs": [],
   "source": [
    "function "
   ]
  }
 ],
 "metadata": {
  "kernelspec": {
   "display_name": "Julia 0.6.0",
   "language": "julia",
   "name": "julia-0.6"
  },
  "language_info": {
   "file_extension": ".jl",
   "mimetype": "application/julia",
   "name": "julia",
   "version": "0.6.0"
  }
 },
 "nbformat": 4,
 "nbformat_minor": 2
}
