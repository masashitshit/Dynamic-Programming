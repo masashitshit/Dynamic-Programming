{
 "cells": [
  {
   "cell_type": "code",
   "execution_count": null,
   "metadata": {
    "collapsed": true
   },
   "outputs": [],
   "source": []
  },
  {
   "cell_type": "code",
   "execution_count": 1,
   "metadata": {
    "collapsed": true
   },
   "outputs": [],
   "source": [
    "%matplotlib inline"
   ]
  },
  {
   "cell_type": "code",
   "execution_count": 4,
   "metadata": {
    "collapsed": true
   },
   "outputs": [],
   "source": [
    "import numpy as np"
   ]
  },
  {
   "cell_type": "code",
   "execution_count": null,
   "metadata": {
    "collapsed": true
   },
   "outputs": [],
   "source": [
    "struct SimpleOG{TI <: Integer, T <: Real,\n",
    "                TR <: AbstractArray{T}, TQ <: AbstractArray{T}}\n",
    "\n",
    "    sbar :: TI\n",
    "    beta :: T\n",
    "    price :: T\n",
    "    R :: TR\n",
    "    Q :: TQ\n",
    "end\n",
    "\n",
    "function SimpleOG{T <: Real}(;sbar::TI=100,price::T=1.0,beta::T=0.9)\n",
    "\n",
    "    c(s,x) = (x-1)^2/s\n",
    "    n = sbar + 1\n",
    "    m = sbar + 1\n",
    "\n",
    "    R = Matrix{T}(n, m)\n",
    "    Q = zeros(Float64,n,m,n)\n",
    "    \n",
    "    for i in 1:n\n",
    "        for j in 1:m\n",
    "            if j <= i\n",
    "                Q[i,j,i-j+1] = 1.0\n",
    "            else\n",
    "                Q[i,j,1] = 1.0\n",
    "            end\n",
    "        end\n",
    "    end\n",
    "    \n",
    "    for p in 1:n\n",
    "        for q in 1:m\n",
    "            if p <= q\n",
    "                R[p,q] = price*(q-1)-c(p,q)\n",
    "            else\n",
    "                R[p,q] = -Inf\n",
    "            end\n",
    "        end\n",
    "    end\n",
    "    \n",
    "    return SimpleOG(sbar,price,beta,R, Q)\n",
    "end"
   ]
  }
 ],
 "metadata": {
  "kernelspec": {
   "display_name": "Python 3",
   "language": "python",
   "name": "python3"
  },
  "language_info": {
   "codemirror_mode": {
    "name": "ipython",
    "version": 3
   },
   "file_extension": ".py",
   "mimetype": "text/x-python",
   "name": "python",
   "nbconvert_exporter": "python",
   "pygments_lexer": "ipython3",
   "version": "3.6.1"
  }
 },
 "nbformat": 4,
 "nbformat_minor": 2
}
