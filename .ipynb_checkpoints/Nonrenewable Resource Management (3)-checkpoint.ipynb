{
 "cells": [
  {
   "cell_type": "code",
   "execution_count": 1,
   "metadata": {
    "collapsed": true
   },
   "outputs": [],
   "source": [
    "using QuantEcon\n",
    "using BasisMatrices\n",
    "using Optim\n",
    "using Interpolations\n",
    "using Plots"
   ]
  },
  {
   "cell_type": "code",
   "execution_count": 2,
   "metadata": {
    "collapsed": true
   },
   "outputs": [],
   "source": [
    "struct NonrenewableResource\n",
    "    a1::Float64 # inverse demand function parameter\n",
    "    a2::Float64 # inverse demand function parameter\n",
    "    b1::Float64 # cost function parameter\n",
    "    b2::Float64 # cost function parameter\n",
    "    delta::Float64 # Discount factor\n",
    "    s_vec::Vector{Float64} # ore grid\n",
    "end"
   ]
  },
  {
   "cell_type": "code",
   "execution_count": 3,
   "metadata": {},
   "outputs": [
    {
     "data": {
      "text/plain": [
       "([0.0, 0.0333333, 0.1, 0.2, 0.3, 0.4, 0.5, 0.6, 0.7, 0.8  …  9.2, 9.3, 9.4, 9.5, 9.6, 9.7, 9.8, 9.9, 9.96667, 10.0], Array{Float64,1}[[0.0, 0.0333333, 0.1, 0.2, 0.3, 0.4, 0.5, 0.6, 0.7, 0.8  …  9.2, 9.3, 9.4, 9.5, 9.6, 9.7, 9.8, 9.9, 9.96667, 10.0]])"
      ]
     },
     "execution_count": 3,
     "metadata": {},
     "output_type": "execute_result"
    }
   ],
   "source": [
    "n = 101\n",
    "smin = 0\n",
    "smax = 10\n",
    "fspace = Basis(ChebParams(n, smin, smax))\n",
    "snodes = nodes(fspace)"
   ]
  },
  {
   "cell_type": "code",
   "execution_count": 4,
   "metadata": {},
   "outputs": [
    {
     "data": {
      "text/plain": [
       "NonrenewableResource(10.0, 0.8, 12.0, 1.0, 0.9, [0.0, 0.0333333, 0.1, 0.2, 0.3, 0.4, 0.5, 0.6, 0.7, 0.8  …  9.2, 9.3, 9.4, 9.5, 9.6, 9.7, 9.8, 9.9, 9.96667, 10.0])"
      ]
     },
     "execution_count": 4,
     "metadata": {},
     "output_type": "execute_result"
    }
   ],
   "source": [
    "NR = NonrenewableResource(10,0.8,12,1.0,0.9,snodes[1])"
   ]
  },
  {
   "cell_type": "code",
   "execution_count": 8,
   "metadata": {
    "collapsed": true
   },
   "outputs": [],
   "source": [
    "# 補間の準備,3次のスプラインで補間する\n",
    "fspace = Basis(SplineParams(n,smin,smax,3))\n",
    "s_vec,_ = nodes(fspace)\n",
    "Φ = BasisMatrix(fspace, Expanded(), s_vec, 0)\n",
    "coeffs_V = Φ.vals[1] \\ s_vec;"
   ]
  },
  {
   "cell_type": "code",
   "execution_count": null,
   "metadata": {
    "collapsed": true
   },
   "outputs": [],
   "source": [
    "function update_Bellman(NR::NonrenewableResource,V::Vector)\n",
    "    \n",
    "    a1,a2,b1,b2,delta = NR.a1,NR.a2,NR.b1,NR.b2,NR.delta\n",
    "    V_new = similar(V)\n",
    "    x_opt = similar(V)\n",
    "    \n",
    "    # 補間の準備.３次のスプラインで補間する\n",
    "    fspace = Basis(SplineParams(n,smin,smax,3))\n",
    "    s_vec,_ = nodes(fspace)\n",
    "    Φ = BasisMatrix(fspace, Expanded(), s_vec, 0)\n",
    "    coeffs_V = Φ.vals[1] \\ s_vec\n",
    "    \n",
    "    for (s_idx,s) in enumerate(NR.s_vec)\n",
    "        objective(x) = -((a1-a2*x)*x-(b1*x-0.5*b2*x*(2s-x))+delta*(funeval(coeffs_V,fspace,s-x)))\n",
    "        opt = optimize(objective, 1e-10, s)\n",
    "        V_new[s_idx] = - opt.minimum\n",
    "        x_opt1[s_idx] = opt.minimizer\n",
    "    end\n",
    "    \n",
    "    for (s_idx,s)\n",
    "    \n",
    "    return V_new,x_opt\n",
    "    \n",
    "end\n",
    "#objective(x) = -((a1-a2*x)*x-(b1*x-0.5*b2*x*(2s-x))+delta*V_func.(s-x))"
   ]
  },
  {
   "cell_type": "code",
   "execution_count": null,
   "metadata": {
    "collapsed": true
   },
   "outputs": [],
   "source": [
    "V2 = Vector{Float64}(length(NR.s_vec))\n",
    "for i in 1:length(NR.s_vec)\n",
    "    V2[i] = V[i]/NR.s_vec[i]\n",
    "end\n",
    "V2\n",
    "plot(NR.s_vec,V2,label=\"Available Stock\",ylabel=\"Value\",xlim=(0,10),ylim=(-1,6))"
   ]
  }
 ],
 "metadata": {
  "kernelspec": {
   "display_name": "Julia 0.6.0",
   "language": "julia",
   "name": "julia-0.6"
  },
  "language_info": {
   "file_extension": ".jl",
   "mimetype": "application/julia",
   "name": "julia",
   "version": "0.6.0"
  }
 },
 "nbformat": 4,
 "nbformat_minor": 2
}
