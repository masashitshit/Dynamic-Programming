{
 "cells": [
  {
   "cell_type": "code",
   "execution_count": 1,
   "metadata": {
    "collapsed": true
   },
   "outputs": [],
   "source": [
    "using QuantEcon\n",
    "using BasisMatrices\n",
    "using Optim\n",
    "using Interpolations\n",
    "using Plots"
   ]
  },
  {
   "cell_type": "code",
   "execution_count": 2,
   "metadata": {
    "collapsed": true
   },
   "outputs": [],
   "source": [
    "struct NonrenewableResource\n",
    "    a1::Float64 # inverse demand function parameter\n",
    "    a2::Float64 # inverse demand function parameter\n",
    "    b1::Float64 # cost function parameter\n",
    "    b2::Float64 # cost function parameter\n",
    "    delta::Float64 # Discount factor\n",
    "    s_vec::Vector{Float64} # ore grid\n",
    "end"
   ]
  },
  {
   "cell_type": "code",
   "execution_count": 3,
   "metadata": {},
   "outputs": [
    {
     "data": {
      "text/plain": [
       "([0.0, 0.0333333, 0.1, 0.2, 0.3, 0.4, 0.5, 0.6, 0.7, 0.8  …  9.2, 9.3, 9.4, 9.5, 9.6, 9.7, 9.8, 9.9, 9.96667, 10.0], Array{Float64,1}[[0.0, 0.0333333, 0.1, 0.2, 0.3, 0.4, 0.5, 0.6, 0.7, 0.8  …  9.2, 9.3, 9.4, 9.5, 9.6, 9.7, 9.8, 9.9, 9.96667, 10.0]])"
      ]
     },
     "execution_count": 3,
     "metadata": {},
     "output_type": "execute_result"
    }
   ],
   "source": [
    "n = 101\n",
    "smin = 0\n",
    "smax = 10\n",
    "fspace = Basis(ChebParams(n, smin, smax))\n",
    "snodes = nodes(fspace)"
   ]
  },
  {
   "cell_type": "code",
   "execution_count": 4,
   "metadata": {},
   "outputs": [
    {
     "data": {
      "text/plain": [
       "NonrenewableResource(10.0, 0.8, 12.0, 1.0, 0.9, [0.0, 0.0333333, 0.1, 0.2, 0.3, 0.4, 0.5, 0.6, 0.7, 0.8  …  9.2, 9.3, 9.4, 9.5, 9.6, 9.7, 9.8, 9.9, 9.96667, 10.0])"
      ]
     },
     "execution_count": 4,
     "metadata": {},
     "output_type": "execute_result"
    }
   ],
   "source": [
    "NR = NonrenewableResource(10,0.8,12,1.0,0.9,snodes[1])"
   ]
  }
 ],
 "metadata": {
  "kernelspec": {
   "display_name": "Julia 0.6.0",
   "language": "julia",
   "name": "julia-0.6"
  },
  "language_info": {
   "file_extension": ".jl",
   "mimetype": "application/julia",
   "name": "julia",
   "version": "0.6.0"
  }
 },
 "nbformat": 4,
 "nbformat_minor": 2
}
