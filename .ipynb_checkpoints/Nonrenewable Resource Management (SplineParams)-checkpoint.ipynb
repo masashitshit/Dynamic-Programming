{
 "cells": [
  {
   "cell_type": "markdown",
   "metadata": {},
   "source": [
    "# Nonrenewable Resource Management (Splineの場合)"
   ]
  },
  {
   "cell_type": "markdown",
   "metadata": {},
   "source": [
    "## 設定\n",
    "\n",
    "* 鉱山経営者が利潤を最大化する鉱石の掘り出し方を考えたい。\n",
    "\n",
    "* 毎期sの鉱石残量が与えられ、xだけ採掘する。\n",
    "\n",
    "* 各期の採掘コストはc(s,x)で　$$c_{s} \\leq 0$$  $$c_{x} \\geq 0$$  $$c_{s}(s,0)=0$$\n",
    "\n",
    "* 各期の鉱石の市場価格はp(x)で　$$p' \\leq 0$$\n",
    "\n",
    "* 鉱石の初期賦存量に$\\bar{s}$が与えられるとする。\n",
    "\n",
    "##### state variable\n",
    "\n",
    "$$s∈[{0,\\bar{s}}]$$\n",
    "\n",
    "##### action variable \n",
    "\n",
    "$$x∈[{0,s}]$$\n",
    "\n",
    "##### transition function\n",
    "\n",
    "$$g(s,x)=s-x$$\n",
    "\n",
    "##### reward function\n",
    "\n",
    "$$f(s,x) = p(x) x-c(s,x)$$\n",
    "\n",
    "##### Bellman equation\n",
    "\n",
    "$$V(s)=\\max_ {0\\leq x \\leq s}  {p(x) x-c(s,x)+\\delta V(s-x)}$$\n"
   ]
  },
  {
   "cell_type": "code",
   "execution_count": 1,
   "metadata": {
    "collapsed": true
   },
   "outputs": [],
   "source": [
    "using QuantEcon\n",
    "using BasisMatrices\n",
    "using Optim\n",
    "using Plots"
   ]
  },
  {
   "cell_type": "code",
   "execution_count": 2,
   "metadata": {
    "collapsed": true
   },
   "outputs": [],
   "source": [
    "struct NonrenewableResource\n",
    "    a1::Float64 # inverse demand function parameter\n",
    "    a2::Float64 # inverse demand function parameter\n",
    "    b1::Float64 # cost function parameter\n",
    "    b2::Float64 # cost function parameter\n",
    "    delta::Float64 # Discount factor\n",
    "    s_vec::Vector{Float64} # ore grid\n",
    "end"
   ]
  },
  {
   "cell_type": "code",
   "execution_count": 3,
   "metadata": {},
   "outputs": [
    {
     "data": {
      "text/plain": [
       "([0.000616838, 0.00555063, 0.0154133, 0.0301952, 0.0498817, 0.0744534, 0.103886, 0.13815, 0.177213, 0.221035  …  9.77897, 9.82279, 9.86185, 9.89611, 9.92555, 9.95012, 9.9698, 9.98459, 9.99445, 9.99938], Array{Float64,1}[[0.000616838, 0.00555063, 0.0154133, 0.0301952, 0.0498817, 0.0744534, 0.103886, 0.13815, 0.177213, 0.221035  …  9.77897, 9.82279, 9.86185, 9.89611, 9.92555, 9.95012, 9.9698, 9.98459, 9.99445, 9.99938]])"
      ]
     },
     "execution_count": 3,
     "metadata": {},
     "output_type": "execute_result"
    }
   ],
   "source": [
    "n = 100\n",
    "smin = 0\n",
    "smax = 10\n",
    "fspace = Basis(ChebParams(n, smin, smax))\n",
    "snodes = nodes(fspace)"
   ]
  },
  {
   "cell_type": "code",
   "execution_count": 4,
   "metadata": {},
   "outputs": [
    {
     "data": {
      "text/plain": [
       "NonrenewableResource(10.0, 0.8, 12.0, 1.0, 0.9, [0.000616838, 0.00555063, 0.0154133, 0.0301952, 0.0498817, 0.0744534, 0.103886, 0.13815, 0.177213, 0.221035  …  9.77897, 9.82279, 9.86185, 9.89611, 9.92555, 9.95012, 9.9698, 9.98459, 9.99445, 9.99938])"
      ]
     },
     "execution_count": 4,
     "metadata": {},
     "output_type": "execute_result"
    }
   ],
   "source": [
    "NR = NonrenewableResource(10,0.8,12,1.0,0.9,snodes[1])"
   ]
  },
  {
   "cell_type": "code",
   "execution_count": 5,
   "metadata": {},
   "outputs": [
    {
     "data": {
      "text/plain": [
       "update_Bellman (generic function with 1 method)"
      ]
     },
     "execution_count": 5,
     "metadata": {},
     "output_type": "execute_result"
    }
   ],
   "source": [
    "function update_Bellman(NR::NonrenewableResource,V::Vector)\n",
    "    \n",
    "    a1,a2,b1,b2,delta = NR.a1,NR.a2,NR.b1,NR.b2,NR.delta\n",
    "    V_new = similar(V)\n",
    "    x_opt = similar(V)\n",
    "    \n",
    "    fspace = Basis(ChebParams(n,smin,smax))\n",
    "    s_vec,_ = nodes(fspace)\n",
    "    Φ = BasisMatrix(fspace, Expanded(), s_vec, 0)\n",
    "    #coeffs_V = Φ.vals[1] \\ s_vec\n",
    "    coeffs_V = Φ.vals[1] \\ V\n",
    "    \n",
    "    for (s_idx,s) in enumerate(NR.s_vec)\n",
    "        objective(x) = -((a1-a2*x)*x-(b1*x-0.5*b2*x*(2s-x))+delta*(funeval(coeffs_V,fspace,s-x)))\n",
    "        opt = optimize(objective, 0, s)\n",
    "        V_new[s_idx] = - opt.minimum\n",
    "        x_opt[s_idx] = opt.minimizer\n",
    "    end\n",
    "    \n",
    "    \n",
    "    return V_new,x_opt,coeffs_V\n",
    "    \n",
    "end"
   ]
  },
  {
   "cell_type": "code",
   "execution_count": 6,
   "metadata": {
    "collapsed": true
   },
   "outputs": [],
   "source": [
    "# Initial guess\n",
    "V = zeros(length(NR.s_vec));"
   ]
  },
  {
   "cell_type": "code",
   "execution_count": 21,
   "metadata": {},
   "outputs": [],
   "source": [
    "fspace = Basis(ChebParams(n,smin,smax))\n",
    "s_vec,_ = nodes(fspace)\n",
    "#Φ = BasisMatrix(fspace, Expanded(), s_vec, 0)\n",
    "#coeffs_V = Φ.vals[1] \\ V\n",
    "coeffs_V = similar(V)\n",
    "V_computed = similar(V)\n",
    "x_opt = similar(V)\n",
    "resid = Vector{Float64}(n)\n",
    "tol = sqrt(eps())\n",
    "max_iter = 500\n",
    "V_error = 1.0\n",
    "i = 1\n",
    "\n",
    "while V_error > tol && i <= max_iter\n",
    "    V_computed ,x_opt,coeffs_V = update_Bellman(NR,V)\n",
    "    V_error = maximum(abs, V_computed - V) \n",
    "\n",
    "    for j in 1:length(V_computed)\n",
    "       resid[j] =  V_computed[j] - funeval(coeffs_V,fspace,snodes[1][j])\n",
    "    end\n",
    "\n",
    "    copy!(V,V_computed)\n",
    "    i += 1\n",
    "end"
   ]
  },
  {
   "cell_type": "code",
   "execution_count": 22,
   "metadata": {},
   "outputs": [
    {
     "data": {
      "text/html": [
       "2"
      ],
      "text/plain": [
       "2"
      ]
     },
     "execution_count": 22,
     "metadata": {},
     "output_type": "execute_result"
    }
   ],
   "source": [
    "i"
   ]
  },
  {
   "cell_type": "code",
   "execution_count": 23,
   "metadata": {},
   "outputs": [
    {
     "data": {
      "text/html": [
       "8.888406455298536e-9"
      ],
      "text/plain": [
       "8.888406455298536e-9"
      ]
     },
     "execution_count": 23,
     "metadata": {},
     "output_type": "execute_result"
    }
   ],
   "source": [
    "V_error"
   ]
  },
  {
   "cell_type": "code",
   "execution_count": 24,
   "metadata": {},
   "outputs": [
    {
     "data": {
      "text/plain": [
       "100-element Array{Float64,1}:\n",
       " -0.00439397 \n",
       "  0.00146948 \n",
       " -0.000887519\n",
       "  0.000640279\n",
       " -0.000504696\n",
       "  0.000419964\n",
       " -0.000362721\n",
       "  0.000322095\n",
       " -0.000292357\n",
       "  0.000270226\n",
       " -0.000253706\n",
       "  0.000241542\n",
       " -0.000232933\n",
       "  ⋮          \n",
       "  5.36452    \n",
       "  5.40162    \n",
       "  5.43562    \n",
       "  5.46614    \n",
       "  5.49355    \n",
       "  5.51738    \n",
       "  5.5381     \n",
       "  5.5551     \n",
       "  5.56907    \n",
       "  5.57911    \n",
       "  5.58644    \n",
       "  5.58878    "
      ]
     },
     "execution_count": 24,
     "metadata": {},
     "output_type": "execute_result"
    }
   ],
   "source": [
    "order = 1\n",
    "B1 = evalbase(fspace.params[1], s_vec, order)\n",
    "interp1 = B1 * coeffs_V"
   ]
  },
  {
   "cell_type": "code",
   "execution_count": 25,
   "metadata": {},
   "outputs": [
    {
     "data": {
      "text/plain": [
       "QuantEcon.LinInterp{Array{Float64,1},Array{Float64,1}}([0.000616838, 0.00555063, 0.0154133, 0.0301952, 0.0498817, 0.0744534, 0.103886, 0.13815, 0.177213, 0.221035  …  9.77897, 9.82279, 9.86185, 9.89611, 9.92555, 9.95012, 9.9698, 9.98459, 9.99445, 9.99938], [4.66539e-16, 5.52419e-16, 6.49662e-16, 3.65056e-16, 4.96329e-16, 6.30565e-16, 2.90794e-16, 5.46944e-16, 4.16256e-16, 1.35926e-15  …  1.46462, 1.47287, 1.48022, 1.48667, 1.4922, 1.49683, 1.50053, 1.50332, 1.50518, 1.50611], 100, 1)"
      ]
     },
     "execution_count": 25,
     "metadata": {},
     "output_type": "execute_result"
    }
   ],
   "source": [
    "p_func = LinInterp(NR.s_vec,x_opt)"
   ]
  },
  {
   "cell_type": "code",
   "execution_count": 26,
   "metadata": {
    "collapsed": true
   },
   "outputs": [],
   "source": [
    "nyrs = 20\n",
    "spath = Array{Float64}(nyrs+1)\n",
    "s_init=10.0\n",
    "spath[1]= s_init\n",
    "\n",
    "for t in 2:nyrs+1\n",
    "    spath[t] = spath[t-1]-p_func(spath[t-1])\n",
    "end"
   ]
  },
  {
   "cell_type": "code",
   "execution_count": 27,
   "metadata": {},
   "outputs": [
    {
     "data": {
      "text/html": [
       "<img src=\"data:image/png;base64,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\" />"
      ]
     },
     "execution_count": 27,
     "metadata": {},
     "output_type": "execute_result"
    }
   ],
   "source": [
    "plot(NR.s_vec,x_opt,xlabel=\"Available Stock\",ylabel=\"Harvest\",xlim=(0,10),ylim=(0,10))"
   ]
  },
  {
   "cell_type": "code",
   "execution_count": 28,
   "metadata": {},
   "outputs": [
    {
     "data": {
      "text/html": [
       "<img src=\"data:image/png;base64,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\" />"
      ]
     },
     "execution_count": 28,
     "metadata": {},
     "output_type": "execute_result"
    }
   ],
   "source": [
    "plot(NR.s_vec, interp1,xlabel=\"Available Stock\",ylabel=\"Shadow Price\", xlim = (0,10),ylim=(-1,8))"
   ]
  },
  {
   "cell_type": "code",
   "execution_count": 30,
   "metadata": {},
   "outputs": [
    {
     "data": {
      "text/html": [
       "<img src=\"data:image/png;base64,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\" />"
      ]
     },
     "execution_count": 30,
     "metadata": {},
     "output_type": "execute_result"
    }
   ],
   "source": [
    "plot(NR.s_vec,resid,xlabel=\"Available Stock\",ylabel=\"Residual\")"
   ]
  },
  {
   "cell_type": "code",
   "execution_count": 16,
   "metadata": {},
   "outputs": [
    {
     "data": {
      "text/html": [
       "<img src=\"data:image/png;base64,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\" />"
      ]
     },
     "execution_count": 16,
     "metadata": {},
     "output_type": "execute_result"
    }
   ],
   "source": [
    "plot(spath,xlabel=\"year\",ylabel=\"stock\")"
   ]
  },
  {
   "cell_type": "code",
   "execution_count": null,
   "metadata": {
    "collapsed": true
   },
   "outputs": [],
   "source": [
    "V_computed = similar(V)\n",
    "x_opt = similar(V)\n",
    "resid = Vector{Float64}(n)\n",
    "tol = 1e-10\n",
    "max_iter = 1\n",
    "V_error = 1.0\n",
    "i = 1\n",
    "\n",
    "while V_error > tol && i <= max_iter\n",
    "    V_computed ,x_opt = update_Bellman(NR,V)\n",
    "    V_error = maximum(abs, V_computed - V) \n",
    "    #for j in 1:length(V_computed)\n",
    "       #resid[j] =  V_computed[j] - V[j]\n",
    "    #end\n",
    "    for j in 1:length(V_computed)\n",
    "       resid[j] =  V_computed[j] - funeval(coeffs_V,fspace,snodes[1][j])\n",
    "    end\n",
    "    copy!(V,V_computed)\n",
    "    i += 1\n",
    "end"
   ]
  },
  {
   "cell_type": "code",
   "execution_count": null,
   "metadata": {
    "collapsed": true
   },
   "outputs": [],
   "source": [
    "function update_Bellman1(NR::NonrenewableResource,V::Vector)\n",
    "    a1,a2,b1,b2,delta = NR.a1,NR.a2,NR.b1,NR.b2,NR.delta\n",
    "    V_new = similar(V)\n",
    "    x_opt = similar(V)\n",
    "    V_func = LinInterp(NR.s_vec, V)\n",
    "    \n",
    "    for (s_idx,s) in enumerate(NR.s_vec)\n",
    "        objective(x) = -((a1-a2*x)*x-(b1*x-0.5*b2*x*(2s-x))+delta*V_func.(s-x))\n",
    "        opt = optimize(objective, 1e-10, s)\n",
    "        V_new[s_idx] = - opt.minimum\n",
    "        x_opt[s_idx] = opt.minimizer\n",
    "    end\n",
    "    \n",
    "    return V_new,x_opt\n",
    "    \n",
    "end"
   ]
  },
  {
   "cell_type": "code",
   "execution_count": null,
   "metadata": {
    "collapsed": true
   },
   "outputs": [],
   "source": []
  },
  {
   "cell_type": "code",
   "execution_count": null,
   "metadata": {
    "collapsed": true
   },
   "outputs": [],
   "source": []
  },
  {
   "cell_type": "code",
   "execution_count": null,
   "metadata": {
    "collapsed": true
   },
   "outputs": [],
   "source": []
  },
  {
   "cell_type": "code",
   "execution_count": null,
   "metadata": {
    "collapsed": true
   },
   "outputs": [],
   "source": []
  },
  {
   "cell_type": "code",
   "execution_count": null,
   "metadata": {
    "collapsed": true
   },
   "outputs": [],
   "source": []
  },
  {
   "cell_type": "code",
   "execution_count": null,
   "metadata": {
    "collapsed": true
   },
   "outputs": [],
   "source": []
  },
  {
   "cell_type": "code",
   "execution_count": null,
   "metadata": {
    "collapsed": true
   },
   "outputs": [],
   "source": []
  },
  {
   "cell_type": "code",
   "execution_count": null,
   "metadata": {
    "collapsed": true
   },
   "outputs": [],
   "source": []
  },
  {
   "cell_type": "code",
   "execution_count": null,
   "metadata": {
    "collapsed": true
   },
   "outputs": [],
   "source": []
  }
 ],
 "metadata": {
  "kernelspec": {
   "display_name": "Julia 0.6.0",
   "language": "julia",
   "name": "julia-0.6"
  },
  "language_info": {
   "file_extension": ".jl",
   "mimetype": "application/julia",
   "name": "julia",
   "version": "0.6.0"
  }
 },
 "nbformat": 4,
 "nbformat_minor": 2
}
