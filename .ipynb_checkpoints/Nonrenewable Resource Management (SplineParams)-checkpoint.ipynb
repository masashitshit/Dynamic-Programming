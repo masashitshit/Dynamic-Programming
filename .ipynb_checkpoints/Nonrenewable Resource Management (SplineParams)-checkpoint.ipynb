{
 "cells": [
  {
   "cell_type": "markdown",
   "metadata": {},
   "source": [
    "# Nonrenewable Resource Management"
   ]
  },
  {
   "cell_type": "markdown",
   "metadata": {},
   "source": [
    "## 設定\n",
    "\n",
    "* 鉱山経営者が利潤を最大化する鉱石の掘り出し方を考えたい。\n",
    "\n",
    "* 毎期sの鉱石残量が与えられ、xだけ採掘する。\n",
    "\n",
    "* 各期の採掘コストはc(s,x)で　$$c_{s} \\leq 0$$  $$c_{x} \\geq 0$$  $$c_{s}(s,0)=0$$\n",
    "\n",
    "* 各期の鉱石の市場価格はp(x)で　$$p' \\leq 0$$\n",
    "\n",
    "* 鉱石の初期賦存量に$\\bar{s}$が与えられるとする。\n",
    "\n",
    "##### state variable\n",
    "\n",
    "$$s∈[{0,\\bar{s}}]$$\n",
    "\n",
    "##### action variable \n",
    "\n",
    "$$x∈[{0,s}]$$\n",
    "\n",
    "##### transition function\n",
    "\n",
    "$$g(s,x)=s-x$$\n",
    "\n",
    "##### reward function\n",
    "\n",
    "$$f(s,x) = p(x) x-c(s,x)$$\n",
    "\n",
    "##### Bellman equation\n",
    "\n",
    "$$V(s)=\\max_ {0\\leq x \\leq s}  {p(x) x-c(s,x)+\\delta V(s-x)}$$\n"
   ]
  },
  {
   "cell_type": "code",
   "execution_count": 1,
   "metadata": {},
   "outputs": [],
   "source": [
    "using QuantEcon\n",
    "using BasisMatrices\n",
    "using Optim \n",
    "using Plots"
   ]
  },
  {
   "cell_type": "markdown",
   "metadata": {},
   "source": [
    "* structでパラメーターの情報を格納"
   ]
  },
  {
   "cell_type": "code",
   "execution_count": 2,
   "metadata": {
    "scrolled": true
   },
   "outputs": [],
   "source": [
    "struct NonrenewableResource\n",
    "    a1::Float64 # inverse demand function parameter\n",
    "    a2::Float64 # inverse demand function parameter\n",
    "    b1::Float64 # cost function parameter\n",
    "    b2::Float64 # cost function parameter\n",
    "    delta::Float64 # Discount factor\n",
    "    s_vec::Vector{Float64} # ore grid\n",
    "end"
   ]
  },
  {
   "cell_type": "markdown",
   "metadata": {},
   "source": [
    "* 基底関数とノードの数、stateの上限と下限、を指定してfspaceにどのような補間をするかの情報を格納\n",
    "* 3次のスプライン補間を行う"
   ]
  },
  {
   "cell_type": "code",
   "execution_count": 3,
   "metadata": {},
   "outputs": [
    {
     "data": {
      "text/plain": [
       "([0.0, 0.03367, 0.10101, 0.20202, 0.30303, 0.40404, 0.505051, 0.606061, 0.707071, 0.808081  …  9.19192, 9.29293, 9.39394, 9.49495, 9.59596, 9.69697, 9.79798, 9.89899, 9.96633, 10.0], Array{Float64,1}[[0.0, 0.03367, 0.10101, 0.20202, 0.30303, 0.40404, 0.505051, 0.606061, 0.707071, 0.808081  …  9.19192, 9.29293, 9.39394, 9.49495, 9.59596, 9.69697, 9.79798, 9.89899, 9.96633, 10.0]])"
      ]
     },
     "execution_count": 3,
     "metadata": {},
     "output_type": "execute_result"
    }
   ],
   "source": [
    "n = 100\n",
    "smin = 0\n",
    "smax = 10\n",
    "fspace = Basis(SplineParams(n,smin,smax,3))\n",
    "snodes = nodes(fspace)"
   ]
  },
  {
   "cell_type": "code",
   "execution_count": 4,
   "metadata": {},
   "outputs": [
    {
     "data": {
      "text/plain": [
       "NonrenewableResource(10.0, 0.8, 12.0, 1.0, 0.9, [0.0, 0.03367, 0.10101, 0.20202, 0.30303, 0.40404, 0.505051, 0.606061, 0.707071, 0.808081  …  9.19192, 9.29293, 9.39394, 9.49495, 9.59596, 9.69697, 9.79798, 9.89899, 9.96633, 10.0])"
      ]
     },
     "execution_count": 4,
     "metadata": {},
     "output_type": "execute_result"
    }
   ],
   "source": [
    "NR = NonrenewableResource(10,0.8,12,1.0,0.9,snodes[1])"
   ]
  },
  {
   "cell_type": "code",
   "execution_count": 5,
   "metadata": {},
   "outputs": [],
   "source": [
    "# 補間の準備.３次のスプラインで補間する\n",
    "fspace = Basis(SplineParams(n,smin,smax,3))\n",
    "s_vec,_ = nodes(fspace)\n",
    "Φ = BasisMatrix(fspace, Expanded(), s_vec, 0)\n",
    "coeffs_V = Φ.vals[1] \\ s_vec;"
   ]
  },
  {
   "cell_type": "code",
   "execution_count": 6,
   "metadata": {},
   "outputs": [
    {
     "data": {
      "text/plain": [
       "update_Bellman (generic function with 1 method)"
      ]
     },
     "execution_count": 6,
     "metadata": {},
     "output_type": "execute_result"
    }
   ],
   "source": [
    "function update_Bellman(NR::NonrenewableResource,V::Vector)\n",
    "    \n",
    "    a1,a2,b1,b2,delta = NR.a1,NR.a2,NR.b1,NR.b2,NR.delta\n",
    "    V_new = similar(V)\n",
    "    x_opt = similar(V)\n",
    "    V_func = LinInterp(NR.s_vec, V)\n",
    "    \n",
    "    for (s_idx,s) in enumerate(NR.s_vec)\n",
    "        objective(x) = -((a1-a2*x)*x-(b1*x-0.5*b2*x*(2s-x))+delta*(funeval(coeffs_V,fspace,s-x)))\n",
    "        opt = optimize(objective, 0, s)\n",
    "        V_new[s_idx] = - opt.minimum\n",
    "        x_opt[s_idx] = opt.minimizer\n",
    "        \n",
    "    end\n",
    "    \n",
    "    return V_new,x_opt\n",
    "    \n",
    "end\n",
    "#objective(x) = -((a1-a2*x)*x-(b1*x-0.5*b2*x*(2s-x))+delta*V_func.(s-x))"
   ]
  },
  {
   "cell_type": "markdown",
   "metadata": {},
   "source": [
    "* Initial guessを与えて、ベルマン方程式を更新していく"
   ]
  },
  {
   "cell_type": "code",
   "execution_count": 7,
   "metadata": {},
   "outputs": [],
   "source": [
    "# Initial guess\n",
    "V = zeros(length(NR.s_vec));"
   ]
  },
  {
   "cell_type": "code",
   "execution_count": 8,
   "metadata": {},
   "outputs": [],
   "source": [
    "n = 300\n",
    "V_computed = similar(V)\n",
    "x_opt = similar(V)\n",
    "\n",
    "#resid = Vector{Float64}(n)\n",
    "for i in 1:n\n",
    "    V_computed, x_opt = update_Bellman(NR,V)       \n",
    "\n",
    "    #for j in 1:length(V_computed)\n",
    "     #   resid[j] =  V_computed[j] - funeval(coeffs_V,fspace,snodes[1][j])\n",
    "    #end\n",
    "    \n",
    "    copy!(V, V_computed)\n",
    "    \n",
    "end"
   ]
  },
  {
   "cell_type": "code",
   "execution_count": 9,
   "metadata": {},
   "outputs": [
    {
     "data": {
      "text/plain": [
       "102-element Array{Float64,1}:\n",
       "  0.0     \n",
       "  0.03367 \n",
       "  0.10101 \n",
       "  0.20202 \n",
       "  0.30303 \n",
       "  0.40404 \n",
       "  0.505051\n",
       "  0.606061\n",
       "  0.707071\n",
       "  0.808081\n",
       "  0.909091\n",
       "  1.0101  \n",
       "  1.11111 \n",
       "  ⋮       \n",
       "  8.9899  \n",
       "  9.09091 \n",
       "  9.19192 \n",
       "  9.29293 \n",
       "  9.39394 \n",
       "  9.49495 \n",
       "  9.59596 \n",
       "  9.69697 \n",
       "  9.79798 \n",
       "  9.89899 \n",
       "  9.96633 \n",
       " 10.0     "
      ]
     },
     "execution_count": 9,
     "metadata": {},
     "output_type": "execute_result"
    }
   ],
   "source": [
    "NR.s_vec"
   ]
  },
  {
   "cell_type": "code",
   "execution_count": 10,
   "metadata": {},
   "outputs": [
    {
     "data": {
      "text/plain": [
       "102-element Array{Float64,1}:\n",
       "  0.0      \n",
       "  0.030303 \n",
       "  0.0909091\n",
       "  0.181818 \n",
       "  0.272727 \n",
       "  0.363636 \n",
       "  0.454545 \n",
       "  0.545455 \n",
       "  0.636364 \n",
       "  0.727273 \n",
       "  0.818182 \n",
       "  0.909091 \n",
       "  1.0      \n",
       "  ⋮        \n",
       " 15.223    \n",
       " 15.5525   \n",
       " 15.8859   \n",
       " 16.2232   \n",
       " 16.5644   \n",
       " 16.9096   \n",
       " 17.2586   \n",
       " 17.6117   \n",
       " 17.9686   \n",
       " 18.3294   \n",
       " 18.5722   \n",
       " 18.6942   "
      ]
     },
     "execution_count": 10,
     "metadata": {},
     "output_type": "execute_result"
    }
   ],
   "source": [
    "V"
   ]
  },
  {
   "cell_type": "code",
   "execution_count": 11,
   "metadata": {},
   "outputs": [
    {
     "data": {
      "text/plain": [
       "102-element Array{Float64,1}:\n",
       " 0.0        \n",
       " 3.2003e-16 \n",
       " 3.839e-16  \n",
       " 2.52481e-16\n",
       " 4.3991e-16 \n",
       " 3.62506e-16\n",
       " 2.31087e-16\n",
       " 3.21714e-16\n",
       " 3.92071e-16\n",
       " 2.26037e-16\n",
       " 2.82047e-16\n",
       " 3.38057e-16\n",
       " 3.80778e-16\n",
       " ⋮          \n",
       " 2.34227    \n",
       " 2.38112    \n",
       " 2.41997    \n",
       " 2.45882    \n",
       " 2.49767    \n",
       " 2.53652    \n",
       " 2.57537    \n",
       " 2.61422    \n",
       " 2.65307    \n",
       " 2.69192    \n",
       " 2.71782    \n",
       " 2.73077    "
      ]
     },
     "execution_count": 11,
     "metadata": {},
     "output_type": "execute_result"
    }
   ],
   "source": [
    "x_opt"
   ]
  },
  {
   "cell_type": "code",
   "execution_count": 12,
   "metadata": {},
   "outputs": [
    {
     "data": {
      "text/html": [
       "<img src=\"data:image/png;base64,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\" />"
      ]
     },
     "execution_count": 12,
     "metadata": {},
     "output_type": "execute_result"
    }
   ],
   "source": [
    "plot(NR.s_vec,x_opt,xlabel=\"Available Stock\",ylabel=\"Harvest\",xlim=(0,10),ylim=(0,10))"
   ]
  },
  {
   "cell_type": "code",
   "execution_count": 13,
   "metadata": {},
   "outputs": [
    {
     "data": {
      "text/html": [
       "<img src=\"data:image/png;base64,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\" />"
      ]
     },
     "execution_count": 13,
     "metadata": {},
     "output_type": "execute_result"
    }
   ],
   "source": [
    "plot(NR.s_vec,V,xlabel=\"Available Stock\",ylabel=\"Value\",xlim=(0,10),ylim=(-1,10))"
   ]
  },
  {
   "cell_type": "code",
   "execution_count": 14,
   "metadata": {},
   "outputs": [
    {
     "data": {
      "text/html": [
       "<img src=\"data:image/png;base64,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\" />"
      ]
     },
     "execution_count": 14,
     "metadata": {},
     "output_type": "execute_result"
    }
   ],
   "source": [
    "plot(s_vec,funeval(coeffs_V,fspace,s_vec))"
   ]
  },
  {
   "cell_type": "code",
   "execution_count": 15,
   "metadata": {},
   "outputs": [
    {
     "data": {
      "text/html": [
       "<img src=\"data:image/png;base64,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\" />"
      ]
     },
     "execution_count": 15,
     "metadata": {},
     "output_type": "execute_result"
    }
   ],
   "source": [
    "resid = V - funeval(coeffs_V,fspace,s_vec)\n",
    "plot(s_vec,resid)"
   ]
  },
  {
   "cell_type": "code",
   "execution_count": null,
   "metadata": {
    "collapsed": true
   },
   "outputs": [],
   "source": []
  }
 ],
 "metadata": {
  "kernelspec": {
   "display_name": "Julia 0.6.0",
   "language": "julia",
   "name": "julia-0.6"
  },
  "language_info": {
   "file_extension": ".jl",
   "mimetype": "application/julia",
   "name": "julia",
   "version": "0.6.0"
  }
 },
 "nbformat": 4,
 "nbformat_minor": 2
}
