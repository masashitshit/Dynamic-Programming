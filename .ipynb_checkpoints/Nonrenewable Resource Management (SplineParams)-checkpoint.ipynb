{
 "cells": [
  {
   "cell_type": "markdown",
   "metadata": {},
   "source": [
    "# Nonrenewable Resource Management (Splineの場合)"
   ]
  },
  {
   "cell_type": "markdown",
   "metadata": {},
   "source": [
    "## 設定\n",
    "\n",
    "* 鉱山経営者が利潤を最大化する鉱石の掘り出し方を考えたい。\n",
    "\n",
    "* 毎期sの鉱石残量が与えられ、xだけ採掘する。\n",
    "\n",
    "* 各期の採掘コストはc(s,x)で　$$c_{s} \\leq 0$$  $$c_{x} \\geq 0$$  $$c_{s}(s,0)=0$$\n",
    "\n",
    "* 各期の鉱石の市場価格はp(x)で　$$p' \\leq 0$$\n",
    "\n",
    "* 鉱石の初期賦存量に$\\bar{s}$が与えられるとする。\n",
    "\n",
    "##### state variable\n",
    "\n",
    "$$s∈[{0,\\bar{s}}]$$\n",
    "\n",
    "##### action variable \n",
    "\n",
    "$$x∈[{0,s}]$$\n",
    "\n",
    "##### transition function\n",
    "\n",
    "$$g(s,x)=s-x$$\n",
    "\n",
    "##### reward function\n",
    "\n",
    "$$f(s,x) = p(x) x-c(s,x)$$\n",
    "\n",
    "##### Bellman equation\n",
    "\n",
    "$$V(s)=\\max_ {0\\leq x \\leq s}  {p(x) x-c(s,x)+\\delta V(s-x)}$$\n"
   ]
  },
  {
   "cell_type": "code",
   "execution_count": 1,
   "metadata": {},
   "outputs": [],
   "source": [
    "using QuantEcon\n",
    "using BasisMatrices\n",
    "using Optim \n",
    "using Plots"
   ]
  },
  {
   "cell_type": "markdown",
   "metadata": {},
   "source": [
    "* structでパラメーターの情報を格納"
   ]
  },
  {
   "cell_type": "code",
   "execution_count": 2,
   "metadata": {
    "scrolled": true
   },
   "outputs": [],
   "source": [
    "struct NonrenewableResource\n",
    "    a1::Float64 # inverse demand function parameter\n",
    "    a2::Float64 # inverse demand function parameter\n",
    "    b1::Float64 # cost function parameter\n",
    "    b2::Float64 # cost function parameter\n",
    "    delta::Float64 # Discount factor\n",
    "    s_vec::Vector{Float64} # ore grid\n",
    "end"
   ]
  },
  {
   "cell_type": "markdown",
   "metadata": {},
   "source": [
    "* 基底関数とノードの数、stateの上限と下限、を指定してfspaceにどのような補間をするかの情報を格納\n",
    "* 3次のスプライン補間を行う"
   ]
  },
  {
   "cell_type": "code",
   "execution_count": 3,
   "metadata": {},
   "outputs": [
    {
     "data": {
      "text/plain": [
       "([0.0, 0.03367, 0.10101, 0.20202, 0.30303, 0.40404, 0.505051, 0.606061, 0.707071, 0.808081  …  9.19192, 9.29293, 9.39394, 9.49495, 9.59596, 9.69697, 9.79798, 9.89899, 9.96633, 10.0], Array{Float64,1}[[0.0, 0.03367, 0.10101, 0.20202, 0.30303, 0.40404, 0.505051, 0.606061, 0.707071, 0.808081  …  9.19192, 9.29293, 9.39394, 9.49495, 9.59596, 9.69697, 9.79798, 9.89899, 9.96633, 10.0]])"
      ]
     },
     "execution_count": 3,
     "metadata": {},
     "output_type": "execute_result"
    }
   ],
   "source": [
    "n = 100\n",
    "smin = 0\n",
    "smax = 10\n",
    "fspace = Basis(SplineParams(n,smin,smax,3))\n",
    "snodes = nodes(fspace)"
   ]
  },
  {
   "cell_type": "code",
   "execution_count": 4,
   "metadata": {},
   "outputs": [
    {
     "data": {
      "text/plain": [
       "NonrenewableResource(10.0, 0.8, 12.0, 1.0, 0.9, [0.0, 0.03367, 0.10101, 0.20202, 0.30303, 0.40404, 0.505051, 0.606061, 0.707071, 0.808081  …  9.19192, 9.29293, 9.39394, 9.49495, 9.59596, 9.69697, 9.79798, 9.89899, 9.96633, 10.0])"
      ]
     },
     "execution_count": 4,
     "metadata": {},
     "output_type": "execute_result"
    }
   ],
   "source": [
    "NR = NonrenewableResource(10,0.8,12,1.0,0.9,snodes[1])"
   ]
  },
  {
   "cell_type": "code",
   "execution_count": 17,
   "metadata": {},
   "outputs": [
    {
     "data": {
      "text/plain": [
       "update_Bellman (generic function with 1 method)"
      ]
     },
     "execution_count": 17,
     "metadata": {},
     "output_type": "execute_result"
    }
   ],
   "source": [
    "function update_Bellman(NR::NonrenewableResource,V::Vector)\n",
    "    \n",
    "    a1,a2,b1,b2,delta = NR.a1,NR.a2,NR.b1,NR.b2,NR.delta\n",
    "    V_new = similar(V)\n",
    "    x_opt = similar(V)\n",
    "    \n",
    "    # 補間の準備.３次のスプラインで補間する\n",
    "    fspace = Basis(SplineParams(n,smin,smax,3))\n",
    "    s_vec,_ = nodes(fspace)\n",
    "    Φ = BasisMatrix(fspace, Expanded(), s_vec, 0)\n",
    "    coeffs_V = Φ.vals[1] \\ s_vec\n",
    "    \n",
    "    for (s_idx,s) in enumerate(NR.s_vec)\n",
    "        objective(x) = -((a1-a2*x)*x-(b1*x-0.5*b2*x*(2s-x))+delta*(funeval(coeffs_V,fspace,s-x)))\n",
    "        opt = optimize(objective, 0, s)\n",
    "        V_new[s_idx] = - opt.minimum\n",
    "        x_opt[s_idx] = opt.minimizer\n",
    "        \n",
    "    end\n",
    "    \n",
    "    return V_new,x_opt\n",
    "    \n",
    "end\n",
    "#objective(x) = -((a1-a2*x)*x-(b1*x-0.5*b2*x*(2s-x))+delta*V_func.(s-x))"
   ]
  },
  {
   "cell_type": "markdown",
   "metadata": {},
   "source": [
    "* Initial guessを与えて、ベルマン方程式を更新していく"
   ]
  },
  {
   "cell_type": "code",
   "execution_count": 18,
   "metadata": {},
   "outputs": [],
   "source": [
    "# Initial guess\n",
    "V = zeros(length(NR.s_vec));"
   ]
  },
  {
   "cell_type": "code",
   "execution_count": 19,
   "metadata": {},
   "outputs": [
    {
     "data": {
      "text/plain": [
       "([0.0, 0.030303, 0.0909091, 0.181818, 0.272727, 0.363636, 0.454545, 0.545455, 0.636364, 0.727273  …  15.8859, 16.2232, 16.5644, 16.9096, 17.2586, 17.6117, 17.9686, 18.3294, 18.5722, 18.6942], [0.0, 3.2003e-16, 3.839e-16, 2.52481e-16, 4.3991e-16, 3.62506e-16, 2.31087e-16, 3.21714e-16, 3.92071e-16, 2.26037e-16  …  2.41997, 2.45882, 2.49767, 2.53652, 2.57537, 2.61422, 2.65307, 2.69192, 2.71782, 2.73077])"
      ]
     },
     "execution_count": 19,
     "metadata": {},
     "output_type": "execute_result"
    }
   ],
   "source": [
    "V_computed, x_opt = update_Bellman(NR,V)  "
   ]
  },
  {
   "cell_type": "code",
   "execution_count": 20,
   "metadata": {},
   "outputs": [],
   "source": [
    "n = 300\n",
    "V_computed = similar(V)\n",
    "x_opt = similar(V)\n",
    "resid = Vector{Float64}(n)\n",
    "\n",
    "for i in 1:n\n",
    "    V_computed, x_opt = update_Bellman(NR,V)       \n",
    "\n",
    "    for j in 1:length(V_computed)\n",
    "       resid[j] =  V_computed[j] - funeval(coeffs_V,fspace,snodes[1][j])\n",
    "    end\n",
    "    \n",
    "    copy!(V, V_computed)\n",
    "    \n",
    "end"
   ]
  },
  {
   "cell_type": "code",
   "execution_count": 21,
   "metadata": {},
   "outputs": [
    {
     "data": {
      "text/plain": [
       "102-element Array{Float64,1}:\n",
       "  0.0      \n",
       "  0.030303 \n",
       "  0.0909091\n",
       "  0.181818 \n",
       "  0.272727 \n",
       "  0.363636 \n",
       "  0.454545 \n",
       "  0.545455 \n",
       "  0.636364 \n",
       "  0.727273 \n",
       "  0.818182 \n",
       "  0.909091 \n",
       "  1.0      \n",
       "  ⋮        \n",
       " 15.223    \n",
       " 15.5525   \n",
       " 15.8859   \n",
       " 16.2232   \n",
       " 16.5644   \n",
       " 16.9096   \n",
       " 17.2586   \n",
       " 17.6117   \n",
       " 17.9686   \n",
       " 18.3294   \n",
       " 18.5722   \n",
       " 18.6942   "
      ]
     },
     "execution_count": 21,
     "metadata": {},
     "output_type": "execute_result"
    }
   ],
   "source": [
    "V"
   ]
  },
  {
   "cell_type": "code",
   "execution_count": 22,
   "metadata": {},
   "outputs": [
    {
     "data": {
      "text/plain": [
       "102-element Array{Float64,1}:\n",
       " 0.0        \n",
       " 3.2003e-16 \n",
       " 3.839e-16  \n",
       " 2.52481e-16\n",
       " 4.3991e-16 \n",
       " 3.62506e-16\n",
       " 2.31087e-16\n",
       " 3.21714e-16\n",
       " 3.92071e-16\n",
       " 2.26037e-16\n",
       " 2.82047e-16\n",
       " 3.38057e-16\n",
       " 3.80778e-16\n",
       " ⋮          \n",
       " 2.34227    \n",
       " 2.38112    \n",
       " 2.41997    \n",
       " 2.45882    \n",
       " 2.49767    \n",
       " 2.53652    \n",
       " 2.57537    \n",
       " 2.61422    \n",
       " 2.65307    \n",
       " 2.69192    \n",
       " 2.71782    \n",
       " 2.73077    "
      ]
     },
     "execution_count": 22,
     "metadata": {},
     "output_type": "execute_result"
    }
   ],
   "source": [
    "x_opt"
   ]
  },
  {
   "cell_type": "code",
   "execution_count": 23,
   "metadata": {},
   "outputs": [
    {
     "data": {
      "text/html": [
       "<img src=\"data:image/png;base64,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\" />"
      ]
     },
     "execution_count": 23,
     "metadata": {},
     "output_type": "execute_result"
    }
   ],
   "source": [
    "plot(NR.s_vec,x_opt,xlabel=\"Available Stock\",ylabel=\"Harvest\",xlim=(0,10),ylim=(0,10))\n",
    "#s = 3(?)の時点で生産が止まっている"
   ]
  },
  {
   "cell_type": "code",
   "execution_count": 24,
   "metadata": {},
   "outputs": [
    {
     "data": {
      "text/html": [
       "<img src=\"data:image/png;base64,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\" />"
      ]
     },
     "execution_count": 24,
     "metadata": {},
     "output_type": "execute_result"
    }
   ],
   "source": [
    "plot(NR.s_vec,V,xlabel=\"Available Stock\",ylabel=\"Value\",xlim=(0,10),ylim=(-1,10))\n",
    "#s = 3でValueが0にならない"
   ]
  },
  {
   "cell_type": "code",
   "execution_count": 25,
   "metadata": {},
   "outputs": [
    {
     "data": {
      "text/html": [
       "<img src=\"data:image/png;base64,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\" />"
      ]
     },
     "execution_count": 25,
     "metadata": {},
     "output_type": "execute_result"
    }
   ],
   "source": [
    "Phi = BasisMatrix(fspace, Expanded(), NR.s_vec, 0)\n",
    "coeffs_V = Phi.vals[1] \\ NR.s_vec\n",
    "order = 1\n",
    "B1 = evalbase(fspace.params[1], NR.s_vec, order)\n",
    "interp1 = B1 * coeffs_V\n",
    "plot(NR.s_vec, interp1, xlim = (0,10),ylim=(0,10))\n",
    "#微分して1  ====>    y=x+cという形状で補間されている....?"
   ]
  },
  {
   "cell_type": "code",
   "execution_count": 13,
   "metadata": {},
   "outputs": [
    {
     "ename": "LoadError",
     "evalue": "\u001b[91mUndefVarError: coeffs_V not defined\u001b[39m",
     "output_type": "error",
     "traceback": [
      "\u001b[91mUndefVarError: coeffs_V not defined\u001b[39m",
      "",
      "Stacktrace:",
      " [1] \u001b[1minclude_string\u001b[22m\u001b[22m\u001b[1m(\u001b[22m\u001b[22m::String, ::String\u001b[1m)\u001b[22m\u001b[22m at \u001b[1m.\\loading.jl:515\u001b[22m\u001b[22m"
     ]
    }
   ],
   "source": [
    "plot(NR.s_vec,funeval(coeffs_V,fspace,s_vec),xlabel=\"Available Stock\",ylabel=\"funeval\")\n",
    "#補完する関数がsの1次関数になってしまっている"
   ]
  },
  {
   "cell_type": "code",
   "execution_count": 14,
   "metadata": {},
   "outputs": [
    {
     "ename": "LoadError",
     "evalue": "\u001b[91mfunction funeval does not accept keyword arguments\u001b[39m",
     "output_type": "error",
     "traceback": [
      "\u001b[91mfunction funeval does not accept keyword arguments\u001b[39m",
      "",
      "Stacktrace:",
      " [1] \u001b[1mkwfunc\u001b[22m\u001b[22m\u001b[1m(\u001b[22m\u001b[22m::Any\u001b[1m)\u001b[22m\u001b[22m at \u001b[1m.\\boot.jl:237\u001b[22m\u001b[22m",
      " [2] \u001b[1minclude_string\u001b[22m\u001b[22m\u001b[1m(\u001b[22m\u001b[22m::String, ::String\u001b[1m)\u001b[22m\u001b[22m at \u001b[1m.\\loading.jl:515\u001b[22m\u001b[22m"
     ]
    }
   ],
   "source": [
    "resid1 = V - funeval(coeffs_V,fspace,s_vec,xlabel=\"Available Stock\",ylabel=\"funeval\")\n",
    "plot(s_vec,resid)"
   ]
  },
  {
   "cell_type": "code",
   "execution_count": null,
   "metadata": {
    "collapsed": true
   },
   "outputs": [],
   "source": []
  }
 ],
 "metadata": {
  "kernelspec": {
   "display_name": "Julia 0.6.0",
   "language": "julia",
   "name": "julia-0.6"
  },
  "language_info": {
   "file_extension": ".jl",
   "mimetype": "application/julia",
   "name": "julia",
   "version": "0.6.0"
  }
 },
 "nbformat": 4,
 "nbformat_minor": 2
}
